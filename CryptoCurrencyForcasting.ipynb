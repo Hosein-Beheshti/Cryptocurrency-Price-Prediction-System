{
  "cells": [
    {
      "cell_type": "code",
      "execution_count": null,
      "metadata": {
        "colab": {
          "base_uri": "https://localhost:8080/"
        },
        "id": "HGZ2T5FLYAVZ",
        "outputId": "0aa1419f-8f96-4845-95e0-eff6ff47af7b"
      },
      "outputs": [],
      "source": [
        "! pip install streamlit pyngrok yfinance plotly\n",
        "# !pip install pystan~=2.14\n",
        "!pip install yfinance\n",
        "!pip install ipython-autotime"
      ]
    },
    {
      "cell_type": "code",
      "execution_count": null,
      "metadata": {
        "id": "zvXHJWceDPbT"
      },
      "outputs": [],
      "source": [
        "from pyngrok import ngrok"
      ]
    },
    {
      "cell_type": "code",
      "execution_count": null,
      "metadata": {
        "colab": {
          "base_uri": "https://localhost:8080/"
        },
        "id": "rJZHRU4WEB24",
        "outputId": "af5c5e98-cdfe-4168-9737-59634bcae9d6"
      },
      "outputs": [
        {
          "name": "stdout",
          "output_type": "stream",
          "text": []
        }
      ],
      "source": [
        "ngrok.set_auth_token(\"2F4v40kJmMDVCfCU8WMCulOnT7d_pJt3w8ArHXju2ez8JGwi\") #ngrok.com"
      ]
    },
    {
      "cell_type": "code",
      "execution_count": null,
      "metadata": {
        "colab": {
          "base_uri": "https://localhost:8080/"
        },
        "id": "WoUywrE8EP4t",
        "outputId": "6be7750d-1d03-49b9-b90b-b50e98ed75c2"
      },
      "outputs": [
        {
          "name": "stdout",
          "output_type": "stream",
          "text": [
            "nohup: appending output to 'nohup.out'\n",
            "NgrokTunnel: \"http://c8e4-34-87-31-178.ngrok.io\" -> \"http://localhost:80\"\n"
          ]
        }
      ],
      "source": [
        "!nohup streamlit run app.py --server.port 80 &\n",
        "url = ngrok.connect(port = '80')\n",
        "print(url)"
      ]
    },
    {
      "cell_type": "code",
      "execution_count": null,
      "metadata": {
        "colab": {
          "base_uri": "https://localhost:8080/"
        },
        "id": "zujGUW71GKTi",
        "outputId": "0514d0bc-817d-41dc-919c-c7d56d2dfc85"
      },
      "outputs": [
        {
          "data": {
            "text/plain": [
              "[<NgrokTunnel: \"https://4b04-34-87-31-178.ngrok.io\" -> \"http://localhost:80\">,\n",
              " <NgrokTunnel: \"http://4b04-34-87-31-178.ngrok.io\" -> \"http://localhost:80\">]"
            ]
          },
          "execution_count": 5,
          "metadata": {},
          "output_type": "execute_result"
        }
      ],
      "source": [
        "from pyngrok import ngrok\n",
        "\n",
        "tunnels = ngrok.get_tunnels()\n",
        "tunnels\n",
        "\n",
        "# try:\n",
        "#     # Block until CTRL-C or some other terminating event\n",
        "#     ngrok_process.proc.wait()\n",
        "# except KeyboardInterrupt:\n",
        "#     print(\" Shutting down server.\")\n",
        "\n",
        "#     ngrok.kill()"
      ]
    },
    {
      "cell_type": "code",
      "execution_count": null,
      "metadata": {
        "colab": {
          "base_uri": "https://localhost:8080/"
        },
        "id": "Qcm7UWQ3FEYZ",
        "outputId": "d653fa83-95ad-4eb0-896f-2d0f2c398fc8"
      },
      "outputs": [
        {
          "name": "stdout",
          "output_type": "stream",
          "text": [
            "2022-10-17 08:24:38.399 INFO    numexpr.utils: NumExpr defaulting to 2 threads.\n",
            "[..................] | fetchMetadata: sill resolveWithNewModule localtunnel@2.0\u001b[0m\u001b[K\n",
            "Collecting usage statistics. To deactivate, set browser.gatherUsageStats to False.\n",
            "\u001b[0m\n",
            "\u001b[0m\n",
            "\u001b[34m\u001b[1m  You can now view your Streamlit app in your browser.\u001b[0m\n",
            "\u001b[0m\n",
            "\u001b[34m  Network URL: \u001b[0m\u001b[1mhttp://172.28.0.2:8501\u001b[0m\n",
            "\u001b[34m  External URL: \u001b[0m\u001b[1mhttp://34.87.31.178:8501\u001b[0m\n",
            "\u001b[0m\n",
            "\u001b[K\u001b[?25hnpx: installed 22 in 3.451s\n",
            "your url is: https://tender-experts-bathe-34-87-31-178.loca.lt\n",
            "\u001b[34m  Stopping...\u001b[0m\n",
            "^C\n"
          ]
        }
      ],
      "source": [
        "!streamlit run /content/app.py & npx localtunnel --port 80"
      ]
    },
    {
      "cell_type": "code",
      "execution_count": null,
      "metadata": {
        "id": "turxHZeVFFyR"
      },
      "outputs": [],
      "source": [
        "x = !pgrep streamlit"
      ]
    },
    {
      "attachments": {},
      "cell_type": "markdown",
      "metadata": {},
      "source": [
        "# Creating a prediction system using streamlit framework with LSTM, GRU and Stacked model we trained on Bitcoin, Ethereum and Ripple"
      ]
    },
    {
      "cell_type": "code",
      "execution_count": null,
      "metadata": {
        "colab": {
          "base_uri": "https://localhost:8080/"
        },
        "id": "5OmTdH3GKEcV",
        "outputId": "1294e4b8-9cfa-473b-dde9-37dd44d87cdc"
      },
      "outputs": [
        {
          "name": "stdout",
          "output_type": "stream",
          "text": [
            "Writing app.py\n"
          ]
        }
      ],
      "source": [
        "%%writefile app.py\n",
        "\n",
        "import streamlit as st\n",
        "import warnings\n",
        "warnings.filterwarnings('ignore')\n",
        "import os\n",
        "import pandas as pd\n",
        "import numpy as np\n",
        "import math\n",
        "import datetime as dt\n",
        "import matplotlib.pyplot as plt\n",
        "\n",
        "from sklearn.metrics import mean_squared_error, mean_absolute_error, explained_variance_score, r2_score, mean_absolute_percentage_error\n",
        "from sklearn.metrics import mean_poisson_deviance, mean_gamma_deviance, accuracy_score\n",
        "from sklearn.preprocessing import MinMaxScaler\n",
        "\n",
        "from itertools import product\n",
        "import statsmodels.api as sm\n",
        "\n",
        "import tensorflow as tf\n",
        "\n",
        "from tensorflow.keras.models import Sequential\n",
        "from tensorflow.keras.layers import Dense, Dropout, Flatten, Activation\n",
        "from tensorflow.keras.layers import LSTM, LeakyReLU\n",
        "\n",
        "\n",
        "import streamlit as st\n",
        "from datetime import date\n",
        "\n",
        "import yfinance as yf\n",
        "# from fbprophet import Prophet\n",
        "# from fbprophet.plot import plot_plotly\n",
        "from plotly import graph_objs as go\n",
        "\n",
        "from tensorflow.keras.models import load_model\n",
        "\n",
        "\n",
        "\n",
        "st.title('Stock Forecast App')\n",
        "\n",
        "stocks = ('BTC-USD', 'ETH-USD', 'XRP-USD')\n",
        "selected_stock = st.selectbox('Select dataset for prediction', stocks)\n",
        "\n",
        "n_days = st.slider('Days of prediction:', 1, 100)\n",
        "\n",
        "@st.cache\n",
        "def load_data(ticker):\n",
        "    START = \"2015-01-01\"\n",
        "    TODAY = date.today().strftime(\"%Y-%m-%d\")\n",
        "    \n",
        "    data = yf.download(ticker, START, TODAY)\n",
        "    data.reset_index(inplace=True)\n",
        "    return data\n",
        "\n",
        "data_load_state = st.text('Loading data...')\n",
        "data = load_data(selected_stock)\n",
        "data_load_state.text('Loading data... done!')\n",
        "\n",
        "st.subheader('Raw data')\n",
        "st.write(data.tail())\n",
        "\n",
        "#---------------------------- Plot raw data\n",
        "def plot_raw_data():\n",
        "\tfig = go.Figure()\n",
        "\tfig.add_trace(go.Scatter(x=data['Date'], y=data['Open'], name=\"open price\"))\n",
        "\tfig.add_trace(go.Scatter(x=data['Date'], y=data['Close'], name=\"close price\"))\n",
        "\tfig.layout.update(title_text='Time Series data with Rangeslider', xaxis_rangeslider_visible=True)\n",
        "\tst.plotly_chart(fig)\n",
        "\t\t\n",
        "plot_raw_data()\n",
        "\n",
        "#--------------------------- forcasting\n",
        "# load models\n",
        "LSTM_path = '/content/drive/My Drive/Models/LSTM_best_model.hdf5'\n",
        "GRU_path = '/content/drive/My Drive/Models/GRU_best_model.hdf5'\n",
        "meta_path = '/content/drive/My Drive/Models/meta_best_model.hdf5'\n",
        "\n",
        "loaded_LSTM = load_model(LSTM_path)\n",
        "loaded_GRU = load_model(GRU_path)\n",
        "loaded_meta = load_model(meta_path)\n",
        "\n",
        "LSTM_model = loaded_LSTM\n",
        "GRU_model = loaded_GRU\n",
        "meta_model = loaded_meta\n",
        "\n",
        "# make predictions\n",
        "\n",
        "def forcasting(n_days):\n",
        "\tn_steps = 10\n",
        "\n",
        "\tscaler_test = MinMaxScaler(feature_range=(0, 1))\n",
        "\tscaled_test = scaler_test.fit_transform(data['Close'][-n_steps:].values.reshape(-1,1))\n",
        "\n",
        "\tprediction_period = n_days\n",
        "\ttemp_input = scaled_test\n",
        "\tx_input = scaled_test\n",
        "\t# demonstrate prediction for next 10 days\n",
        "\tfrom numpy import array\n",
        "\n",
        "\tlst_output=[]\n",
        "\n",
        "\ti=0\n",
        "\twhile(i<prediction_period):\n",
        "\t\t\t\n",
        "\t\t\tif(len(temp_input)>n_steps):\n",
        "\t\t\t\t\t# print(temp_input)\n",
        "\t\t\t\t\tx_input=np.array(temp_input[1:])\n",
        "\t\t\t\t\t# print(\"{} day input {}\".format(i,x_input))\n",
        "\t\t\t\t\tx_input=x_input.reshape(1,-1)\n",
        "\t\t\t\t\tx_input = x_input.reshape((1, n_steps, 1))\n",
        "\t\t\t\t\t#print(x_input)\n",
        "\t\t\t\t\t# yhat = model_from_saved_checkpoint.predict(x_input, verbose=0)\n",
        "\t\t\t\t\tyhat1 = LSTM_model.predict(x_input, verbose=0)\n",
        "\t\t\t\t\tyhat2 = GRU_model.predict(x_input, verbose=0)\n",
        "\t\t\t\t\tlevel1_test_data = np.concatenate((yhat1, yhat2), axis=-1)\n",
        "\t\t\t\t\tyhat = meta_model.predict(level1_test_data)\n",
        "\n",
        "\t\t\t\t\t\n",
        "\t\t\t\t\t# print(\"x = \", x_input)\n",
        "\t\t\t\t\t# print(\"{} day output {}\".format(i,yhat))\n",
        "\t\t\t\t\t# temp_input.extend(yhat[0].tolist())\n",
        "\t\t\t\t\ttemp_input = np.append(temp_input, yhat[0])\n",
        "\t\t\t\t\ttemp_input=temp_input[1:]\n",
        "\t\t\t\t\t#print(temp_input)\n",
        "\t\t\t\t\tlst_output.extend(yhat.tolist())\n",
        "\t\t\t\t\ti=i+1\n",
        "\t\t\telse:\n",
        "\t\t\t\t\tx_input = x_input.reshape((1, n_steps,1))\n",
        "\t\t\t\t\t# yhat = model_from_saved_checkpoint.predict(x_input, verbose=0)\n",
        "\t\t\t\t\tyhat1 = LSTM_model.predict(x_input, verbose=0)\n",
        "\t\t\t\t\tyhat2 = GRU_model.predict(x_input, verbose=0)\n",
        "\t\t\t\t\tlevel1_test_data = np.concatenate((yhat1, yhat2), axis=-1)\n",
        "\t\t\t\t\tyhat = meta_model.predict(level1_test_data)\n",
        "\t\t\t\t\t\n",
        "\t\t\t\t\t# print(yhat[0])\n",
        "\t\t\t\t\t# temp_input.extend(yhat[0].tolist())\n",
        "\t\t\t\t\ttemp_input = np.append(temp_input, yhat[0])\n",
        "\t\t\t\t\tlst_output.extend(yhat.tolist())\n",
        "\t\t\t\t\ti=i+1\n",
        "\t\t\t\n",
        "\n",
        "\tlst_output = np.array(lst_output)\n",
        "\tlst_output = scaler_test.inverse_transform(lst_output.reshape(-1, 1))\n",
        "\n",
        "\treturn lst_output\n",
        "\n",
        "predicttion = forcasting(n_days)\n",
        "\n",
        "st.subheader('predicted price')\n",
        "\n",
        "st.write(pd.DataFrame(predicttion)[0])\n",
        "\n",
        "def plot_raw_data():\n",
        "\tx_array = np.arange(1 , n_days + 1)\n",
        "\tfig = go.Figure()\n",
        "\tfig.add_trace(go.Scatter(x=x_array, y=pd.DataFrame(predicttion)[0], name=\"predicted price\"))\n",
        "\t# fig.layout.update(title_text='Time Series data with Rangeslider', xaxis_rangeslider_visible=True)\n",
        "\tst.plotly_chart(fig)\n",
        "\n",
        "plot_raw_data()\n",
        "\n",
        "st.write(\"finished\")"
      ]
    },
    {
      "cell_type": "code",
      "execution_count": null,
      "metadata": {
        "id": "_ouoYSDFXu6Q"
      },
      "outputs": [],
      "source": [
        "ngrok.kill()"
      ]
    },
    {
      "cell_type": "code",
      "execution_count": null,
      "metadata": {
        "colab": {
          "base_uri": "https://localhost:8080/"
        },
        "id": "Lq0w5IZ6C5hL",
        "outputId": "cce71e98-53eb-4011-c104-c8f6cbf3ba73"
      },
      "outputs": [
        {
          "name": "stdout",
          "output_type": "stream",
          "text": [
            "Looking in indexes: https://pypi.org/simple, https://us-python.pkg.dev/colab-wheels/public/simple/\n",
            "Collecting Historic_Crypto\n",
            "  Downloading Historic_Crypto-0.1.6-py3-none-any.whl (8.8 kB)\n",
            "Requirement already satisfied: requests in /usr/local/lib/python3.7/dist-packages (from Historic_Crypto) (2.23.0)\n",
            "Requirement already satisfied: numpy in /usr/local/lib/python3.7/dist-packages (from Historic_Crypto) (1.21.6)\n",
            "Requirement already satisfied: idna<3,>=2.5 in /usr/local/lib/python3.7/dist-packages (from requests->Historic_Crypto) (2.10)\n",
            "Requirement already satisfied: certifi>=2017.4.17 in /usr/local/lib/python3.7/dist-packages (from requests->Historic_Crypto) (2022.6.15)\n",
            "Requirement already satisfied: chardet<4,>=3.0.2 in /usr/local/lib/python3.7/dist-packages (from requests->Historic_Crypto) (3.0.4)\n",
            "Requirement already satisfied: urllib3!=1.25.0,!=1.25.1,<1.26,>=1.21.1 in /usr/local/lib/python3.7/dist-packages (from requests->Historic_Crypto) (1.24.3)\n",
            "Installing collected packages: Historic-Crypto\n",
            "Successfully installed Historic-Crypto-0.1.6\n"
          ]
        }
      ],
      "source": [
        "import warnings\n",
        "warnings.filterwarnings(\"ignore\")\n",
        "\n",
        "%pip install Historic_Crypto\n",
        "from Historic_Crypto import HistoricalData"
      ]
    },
    {
      "cell_type": "code",
      "execution_count": null,
      "metadata": {
        "id": "SEtw9xDWjkFk"
      },
      "outputs": [],
      "source": [
        "# %time btc_historicals = HistoricalData('BTC-USD',60,'2015-08-01-00-00', '2022-07-26-00-00').retrieve_data()\n",
        "# btc_historicals.head()"
      ]
    },
    {
      "cell_type": "code",
      "execution_count": null,
      "metadata": {
        "id": "ZEa5janIkdZB"
      },
      "outputs": [],
      "source": [
        "# len(btc_historicals)"
      ]
    },
    {
      "cell_type": "code",
      "execution_count": null,
      "metadata": {
        "id": "KW8Y9msbitw1"
      },
      "outputs": [],
      "source": [
        "# #Write Data\n",
        "\n",
        "# from google.colab import files\n",
        "# # btc_historicals.to_csv('btc_historicals_2015-08-01-00-00_2022-07-18-00-00.csv') \n",
        "# # files.download('btc_historicals_2015-08-01-00-00_2022-07-18-00-00.csv')\n",
        "\n",
        "# from google.colab import drive\n",
        "\n",
        "# drive.mount('/content/drive')\n",
        "# path = '/content/drive/My Drive/btc_historicals_2015-08-01-00-00_2022-07-18-00-00.csv'\n",
        "\n",
        "# with open(path, 'w', encoding = 'utf-8-sig') as f:\n",
        "#   btc_historicals.to_csv(f)"
      ]
    },
    {
      "cell_type": "code",
      "execution_count": null,
      "metadata": {
        "colab": {
          "base_uri": "https://localhost:8080/",
          "height": 501
        },
        "id": "zYpapsrdtL3g",
        "outputId": "ff3ab3ac-1587-4099-fa42-69394992b189"
      },
      "outputs": [],
      "source": [
        "import tensorflow as tf\n",
        "from tensorflow import keras\n",
        "from tensorflow.keras import layers\n",
        "from tensorflow.keras.metrics import binary_focal_crossentropy"
      ]
    },
    {
      "cell_type": "code",
      "execution_count": null,
      "metadata": {
        "id": "8SEcHJMy6AVg"
      },
      "outputs": [],
      "source": [
        "import warnings\n",
        "warnings.filterwarnings('ignore')\n",
        "import os\n",
        "import pandas as pd\n",
        "import numpy as np\n",
        "import math\n",
        "import datetime as dt\n",
        "import matplotlib.pyplot as plt\n",
        "\n",
        "from sklearn.metrics import mean_squared_error, mean_absolute_error, explained_variance_score, r2_score, mean_absolute_percentage_error\n",
        "from sklearn.metrics import mean_poisson_deviance, mean_gamma_deviance, accuracy_score\n",
        "from sklearn.preprocessing import MinMaxScaler\n",
        "\n",
        "from itertools import product\n",
        "import statsmodels.api as sm\n",
        "\n",
        "import tensorflow as tf\n",
        "\n",
        "from tensorflow.keras.models import Sequential\n",
        "from tensorflow.keras.layers import Dense, Dropout, Flatten, Activation\n",
        "from tensorflow.keras.layers import LSTM, LeakyReLU, Bidirectional\n",
        "\n",
        "from itertools import cycle\n",
        "import plotly.offline as py\n",
        "import plotly.graph_objects as go\n",
        "import plotly.express as px\n",
        "from plotly.subplots import make_subplots\n",
        "\n",
        "plt.style.use('seaborn-darkgrid')"
      ]
    },
    {
      "cell_type": "code",
      "execution_count": null,
      "metadata": {
        "colab": {
          "base_uri": "https://localhost:8080/",
          "height": 328
        },
        "id": "lxfcbXLy-1RC",
        "outputId": "37029387-c78f-4919-ce32-032afbba9181"
      },
      "outputs": [],
      "source": [
        "from google.colab import drive\n",
        "drive.mount('/content/drive')"
      ]
    },
    {
      "cell_type": "code",
      "execution_count": null,
      "metadata": {
        "id": "bxD22MTK6AVk"
      },
      "outputs": [],
      "source": [
        "# Google Drive Root Path\n",
        "root_path = '/content/drive/My Drive/Copy of btc_historicals_2015-08-01-00-00_2022-07-18-00-00.csv'\n",
        "\n",
        "# Local Machine Root Path\n",
        "# root_path = './input/btc_ohlc_Oct_2015_to_Oct_2021.csv'\n",
        "\n",
        "# Kaggle Root Path\n",
        "# root_path = '/kaggle/input/bitcoin-historic-prices-from-oct2015-to-oct2021/btc_ohlc_Oct_2015_to_Oct_2021.csv'\n",
        "\n",
        "\n",
        "# btc_input_df = pd.read_csv(root_path, nrows=500)\n",
        "btc_input_df = pd.read_csv(root_path)\n",
        "\n",
        "# btc_input_df = btc_historicals\n",
        "btc_input_df.tail()"
      ]
    },
    {
      "cell_type": "code",
      "execution_count": null,
      "metadata": {
        "id": "kGyqanQt6AVl"
      },
      "outputs": [],
      "source": [
        "btc_input_df.shape"
      ]
    },
    {
      "cell_type": "code",
      "execution_count": null,
      "metadata": {
        "colab": {
          "base_uri": "https://localhost:8080/",
          "height": 300
        },
        "id": "7TP2_d5J6AVm",
        "outputId": "8dc21dd4-6a49-4c1f-eec4-37096ccf13a0"
      },
      "outputs": [
        {
          "data": {
            "text/html": [
              "\n",
              "  <div id=\"df-37c7198c-0295-4851-be94-034765ff91f4\">\n",
              "    <div class=\"colab-df-container\">\n",
              "      <div>\n",
              "<style scoped>\n",
              "    .dataframe tbody tr th:only-of-type {\n",
              "        vertical-align: middle;\n",
              "    }\n",
              "\n",
              "    .dataframe tbody tr th {\n",
              "        vertical-align: top;\n",
              "    }\n",
              "\n",
              "    .dataframe thead th {\n",
              "        text-align: right;\n",
              "    }\n",
              "</style>\n",
              "<table border=\"1\" class=\"dataframe\">\n",
              "  <thead>\n",
              "    <tr style=\"text-align: right;\">\n",
              "      <th></th>\n",
              "      <th>low</th>\n",
              "      <th>high</th>\n",
              "      <th>open</th>\n",
              "      <th>close</th>\n",
              "      <th>volume</th>\n",
              "    </tr>\n",
              "  </thead>\n",
              "  <tbody>\n",
              "    <tr>\n",
              "      <th>count</th>\n",
              "      <td>3.613022e+06</td>\n",
              "      <td>3.613022e+06</td>\n",
              "      <td>3.613022e+06</td>\n",
              "      <td>3.613022e+06</td>\n",
              "      <td>3.613022e+06</td>\n",
              "    </tr>\n",
              "    <tr>\n",
              "      <th>mean</th>\n",
              "      <td>1.419965e+04</td>\n",
              "      <td>1.421668e+04</td>\n",
              "      <td>1.420827e+04</td>\n",
              "      <td>1.420830e+04</td>\n",
              "      <td>9.863602e+00</td>\n",
              "    </tr>\n",
              "    <tr>\n",
              "      <th>std</th>\n",
              "      <td>1.697359e+04</td>\n",
              "      <td>1.699594e+04</td>\n",
              "      <td>1.698482e+04</td>\n",
              "      <td>1.698485e+04</td>\n",
              "      <td>2.177076e+01</td>\n",
              "    </tr>\n",
              "    <tr>\n",
              "      <th>min</th>\n",
              "      <td>6.000000e-02</td>\n",
              "      <td>6.000000e-02</td>\n",
              "      <td>6.000000e-02</td>\n",
              "      <td>6.000000e-02</td>\n",
              "      <td>1.000000e-08</td>\n",
              "    </tr>\n",
              "    <tr>\n",
              "      <th>25%</th>\n",
              "      <td>2.209122e+03</td>\n",
              "      <td>2.212562e+03</td>\n",
              "      <td>2.211030e+03</td>\n",
              "      <td>2.211003e+03</td>\n",
              "      <td>1.439860e+00</td>\n",
              "    </tr>\n",
              "    <tr>\n",
              "      <th>50%</th>\n",
              "      <td>7.653520e+03</td>\n",
              "      <td>7.660000e+03</td>\n",
              "      <td>7.656730e+03</td>\n",
              "      <td>7.656730e+03</td>\n",
              "      <td>3.997861e+00</td>\n",
              "    </tr>\n",
              "    <tr>\n",
              "      <th>75%</th>\n",
              "      <td>1.659099e+04</td>\n",
              "      <td>1.661899e+04</td>\n",
              "      <td>1.660274e+04</td>\n",
              "      <td>1.660310e+04</td>\n",
              "      <td>1.020096e+01</td>\n",
              "    </tr>\n",
              "    <tr>\n",
              "      <th>max</th>\n",
              "      <td>6.878669e+04</td>\n",
              "      <td>6.900000e+04</td>\n",
              "      <td>6.899776e+04</td>\n",
              "      <td>6.899776e+04</td>\n",
              "      <td>1.549613e+03</td>\n",
              "    </tr>\n",
              "  </tbody>\n",
              "</table>\n",
              "</div>\n",
              "      <button class=\"colab-df-convert\" onclick=\"convertToInteractive('df-37c7198c-0295-4851-be94-034765ff91f4')\"\n",
              "              title=\"Convert this dataframe to an interactive table.\"\n",
              "              style=\"display:none;\">\n",
              "        \n",
              "  <svg xmlns=\"http://www.w3.org/2000/svg\" height=\"24px\"viewBox=\"0 0 24 24\"\n",
              "       width=\"24px\">\n",
              "    <path d=\"M0 0h24v24H0V0z\" fill=\"none\"/>\n",
              "    <path d=\"M18.56 5.44l.94 2.06.94-2.06 2.06-.94-2.06-.94-.94-2.06-.94 2.06-2.06.94zm-11 1L8.5 8.5l.94-2.06 2.06-.94-2.06-.94L8.5 2.5l-.94 2.06-2.06.94zm10 10l.94 2.06.94-2.06 2.06-.94-2.06-.94-.94-2.06-.94 2.06-2.06.94z\"/><path d=\"M17.41 7.96l-1.37-1.37c-.4-.4-.92-.59-1.43-.59-.52 0-1.04.2-1.43.59L10.3 9.45l-7.72 7.72c-.78.78-.78 2.05 0 2.83L4 21.41c.39.39.9.59 1.41.59.51 0 1.02-.2 1.41-.59l7.78-7.78 2.81-2.81c.8-.78.8-2.07 0-2.86zM5.41 20L4 18.59l7.72-7.72 1.47 1.35L5.41 20z\"/>\n",
              "  </svg>\n",
              "      </button>\n",
              "      \n",
              "  <style>\n",
              "    .colab-df-container {\n",
              "      display:flex;\n",
              "      flex-wrap:wrap;\n",
              "      gap: 12px;\n",
              "    }\n",
              "\n",
              "    .colab-df-convert {\n",
              "      background-color: #E8F0FE;\n",
              "      border: none;\n",
              "      border-radius: 50%;\n",
              "      cursor: pointer;\n",
              "      display: none;\n",
              "      fill: #1967D2;\n",
              "      height: 32px;\n",
              "      padding: 0 0 0 0;\n",
              "      width: 32px;\n",
              "    }\n",
              "\n",
              "    .colab-df-convert:hover {\n",
              "      background-color: #E2EBFA;\n",
              "      box-shadow: 0px 1px 2px rgba(60, 64, 67, 0.3), 0px 1px 3px 1px rgba(60, 64, 67, 0.15);\n",
              "      fill: #174EA6;\n",
              "    }\n",
              "\n",
              "    [theme=dark] .colab-df-convert {\n",
              "      background-color: #3B4455;\n",
              "      fill: #D2E3FC;\n",
              "    }\n",
              "\n",
              "    [theme=dark] .colab-df-convert:hover {\n",
              "      background-color: #434B5C;\n",
              "      box-shadow: 0px 1px 3px 1px rgba(0, 0, 0, 0.15);\n",
              "      filter: drop-shadow(0px 1px 2px rgba(0, 0, 0, 0.3));\n",
              "      fill: #FFFFFF;\n",
              "    }\n",
              "  </style>\n",
              "\n",
              "      <script>\n",
              "        const buttonEl =\n",
              "          document.querySelector('#df-37c7198c-0295-4851-be94-034765ff91f4 button.colab-df-convert');\n",
              "        buttonEl.style.display =\n",
              "          google.colab.kernel.accessAllowed ? 'block' : 'none';\n",
              "\n",
              "        async function convertToInteractive(key) {\n",
              "          const element = document.querySelector('#df-37c7198c-0295-4851-be94-034765ff91f4');\n",
              "          const dataTable =\n",
              "            await google.colab.kernel.invokeFunction('convertToInteractive',\n",
              "                                                     [key], {});\n",
              "          if (!dataTable) return;\n",
              "\n",
              "          const docLinkHtml = 'Like what you see? Visit the ' +\n",
              "            '<a target=\"_blank\" href=https://colab.research.google.com/notebooks/data_table.ipynb>data table notebook</a>'\n",
              "            + ' to learn more about interactive tables.';\n",
              "          element.innerHTML = '';\n",
              "          dataTable['output_type'] = 'display_data';\n",
              "          await google.colab.output.renderOutput(dataTable, element);\n",
              "          const docLink = document.createElement('div');\n",
              "          docLink.innerHTML = docLinkHtml;\n",
              "          element.appendChild(docLink);\n",
              "        }\n",
              "      </script>\n",
              "    </div>\n",
              "  </div>\n",
              "  "
            ],
            "text/plain": [
              "                low          high          open         close        volume\n",
              "count  3.613022e+06  3.613022e+06  3.613022e+06  3.613022e+06  3.613022e+06\n",
              "mean   1.419965e+04  1.421668e+04  1.420827e+04  1.420830e+04  9.863602e+00\n",
              "std    1.697359e+04  1.699594e+04  1.698482e+04  1.698485e+04  2.177076e+01\n",
              "min    6.000000e-02  6.000000e-02  6.000000e-02  6.000000e-02  1.000000e-08\n",
              "25%    2.209122e+03  2.212562e+03  2.211030e+03  2.211003e+03  1.439860e+00\n",
              "50%    7.653520e+03  7.660000e+03  7.656730e+03  7.656730e+03  3.997861e+00\n",
              "75%    1.659099e+04  1.661899e+04  1.660274e+04  1.660310e+04  1.020096e+01\n",
              "max    6.878669e+04  6.900000e+04  6.899776e+04  6.899776e+04  1.549613e+03"
            ]
          },
          "execution_count": 26,
          "metadata": {},
          "output_type": "execute_result"
        }
      ],
      "source": [
        "btc_input_df.describe()"
      ]
    },
    {
      "cell_type": "code",
      "execution_count": null,
      "metadata": {
        "colab": {
          "base_uri": "https://localhost:8080/"
        },
        "id": "kQuL1d_R6AVn",
        "outputId": "9179e0f5-0f9d-49dc-f9fc-50c81e9f21ce"
      },
      "outputs": [
        {
          "name": "stdout",
          "output_type": "stream",
          "text": [
            "<class 'pandas.core.frame.DataFrame'>\n",
            "RangeIndex: 3613022 entries, 0 to 3613021\n",
            "Data columns (total 6 columns):\n",
            " #   Column  Dtype  \n",
            "---  ------  -----  \n",
            " 0   time    object \n",
            " 1   low     float64\n",
            " 2   high    float64\n",
            " 3   open    float64\n",
            " 4   close   float64\n",
            " 5   volume  float64\n",
            "dtypes: float64(5), object(1)\n",
            "memory usage: 165.4+ MB\n"
          ]
        }
      ],
      "source": [
        "btc_input_df.info()"
      ]
    },
    {
      "cell_type": "code",
      "execution_count": null,
      "metadata": {
        "id": "uzjyOZL26AVo"
      },
      "outputs": [],
      "source": [
        "btc_input_df_datetype = btc_input_df.astype({'time': 'datetime64'})"
      ]
    },
    {
      "cell_type": "code",
      "execution_count": null,
      "metadata": {
        "colab": {
          "base_uri": "https://localhost:8080/"
        },
        "id": "tNDrF1DR6AVp",
        "outputId": "c0158e87-878e-43a0-ad7d-abb0911c8aeb"
      },
      "outputs": [
        {
          "name": "stdout",
          "output_type": "stream",
          "text": [
            "<class 'pandas.core.frame.DataFrame'>\n",
            "RangeIndex: 3613022 entries, 0 to 3613021\n",
            "Data columns (total 6 columns):\n",
            " #   Column  Dtype         \n",
            "---  ------  -----         \n",
            " 0   time    datetime64[ns]\n",
            " 1   low     float64       \n",
            " 2   high    float64       \n",
            " 3   open    float64       \n",
            " 4   close   float64       \n",
            " 5   volume  float64       \n",
            "dtypes: datetime64[ns](1), float64(5)\n",
            "memory usage: 165.4 MB\n"
          ]
        }
      ],
      "source": [
        "btc_input_df_datetype.info()"
      ]
    },
    {
      "cell_type": "code",
      "execution_count": null,
      "metadata": {
        "colab": {
          "base_uri": "https://localhost:8080/"
        },
        "id": "GxnRVNsn6AVq",
        "outputId": "ceccb25c-bfbe-4026-d727-2c26c48f4e0d"
      },
      "outputs": [
        {
          "name": "stdout",
          "output_type": "stream",
          "text": [
            "Null Values: 0\n",
            "If any NA values: False\n"
          ]
        }
      ],
      "source": [
        "print('Null Values:',btc_input_df_datetype.isnull().values.sum())\n",
        "print('If any NA values:', btc_input_df_datetype.isnull().values.any())"
      ]
    },
    {
      "cell_type": "code",
      "execution_count": null,
      "metadata": {
        "colab": {
          "base_uri": "https://localhost:8080/",
          "height": 206
        },
        "id": "-BZHrx1W6AVq",
        "outputId": "cbdf7cef-fa26-4a54-e198-514774f9cde4"
      },
      "outputs": [
        {
          "data": {
            "text/html": [
              "\n",
              "  <div id=\"df-d9ae9d81-98f1-4279-ab8b-382d336418ec\">\n",
              "    <div class=\"colab-df-container\">\n",
              "      <div>\n",
              "<style scoped>\n",
              "    .dataframe tbody tr th:only-of-type {\n",
              "        vertical-align: middle;\n",
              "    }\n",
              "\n",
              "    .dataframe tbody tr th {\n",
              "        vertical-align: top;\n",
              "    }\n",
              "\n",
              "    .dataframe thead th {\n",
              "        text-align: right;\n",
              "    }\n",
              "</style>\n",
              "<table border=\"1\" class=\"dataframe\">\n",
              "  <thead>\n",
              "    <tr style=\"text-align: right;\">\n",
              "      <th></th>\n",
              "      <th>time</th>\n",
              "      <th>low</th>\n",
              "      <th>high</th>\n",
              "      <th>open</th>\n",
              "      <th>close</th>\n",
              "      <th>volume</th>\n",
              "    </tr>\n",
              "  </thead>\n",
              "  <tbody>\n",
              "    <tr>\n",
              "      <th>3613017</th>\n",
              "      <td>2022-07-25 23:56:00</td>\n",
              "      <td>21291.13</td>\n",
              "      <td>21331.61</td>\n",
              "      <td>21297.80</td>\n",
              "      <td>21327.39</td>\n",
              "      <td>17.155631</td>\n",
              "    </tr>\n",
              "    <tr>\n",
              "      <th>3613018</th>\n",
              "      <td>2022-07-25 23:57:00</td>\n",
              "      <td>21298.33</td>\n",
              "      <td>21345.75</td>\n",
              "      <td>21327.36</td>\n",
              "      <td>21309.08</td>\n",
              "      <td>37.797065</td>\n",
              "    </tr>\n",
              "    <tr>\n",
              "      <th>3613019</th>\n",
              "      <td>2022-07-25 23:58:00</td>\n",
              "      <td>21308.03</td>\n",
              "      <td>21328.65</td>\n",
              "      <td>21309.08</td>\n",
              "      <td>21321.67</td>\n",
              "      <td>6.614248</td>\n",
              "    </tr>\n",
              "    <tr>\n",
              "      <th>3613020</th>\n",
              "      <td>2022-07-25 23:59:00</td>\n",
              "      <td>21275.65</td>\n",
              "      <td>21328.60</td>\n",
              "      <td>21321.92</td>\n",
              "      <td>21313.41</td>\n",
              "      <td>50.148258</td>\n",
              "    </tr>\n",
              "    <tr>\n",
              "      <th>3613021</th>\n",
              "      <td>2022-07-26 00:00:00</td>\n",
              "      <td>21234.01</td>\n",
              "      <td>21317.17</td>\n",
              "      <td>21312.06</td>\n",
              "      <td>21248.31</td>\n",
              "      <td>111.412603</td>\n",
              "    </tr>\n",
              "  </tbody>\n",
              "</table>\n",
              "</div>\n",
              "      <button class=\"colab-df-convert\" onclick=\"convertToInteractive('df-d9ae9d81-98f1-4279-ab8b-382d336418ec')\"\n",
              "              title=\"Convert this dataframe to an interactive table.\"\n",
              "              style=\"display:none;\">\n",
              "        \n",
              "  <svg xmlns=\"http://www.w3.org/2000/svg\" height=\"24px\"viewBox=\"0 0 24 24\"\n",
              "       width=\"24px\">\n",
              "    <path d=\"M0 0h24v24H0V0z\" fill=\"none\"/>\n",
              "    <path d=\"M18.56 5.44l.94 2.06.94-2.06 2.06-.94-2.06-.94-.94-2.06-.94 2.06-2.06.94zm-11 1L8.5 8.5l.94-2.06 2.06-.94-2.06-.94L8.5 2.5l-.94 2.06-2.06.94zm10 10l.94 2.06.94-2.06 2.06-.94-2.06-.94-.94-2.06-.94 2.06-2.06.94z\"/><path d=\"M17.41 7.96l-1.37-1.37c-.4-.4-.92-.59-1.43-.59-.52 0-1.04.2-1.43.59L10.3 9.45l-7.72 7.72c-.78.78-.78 2.05 0 2.83L4 21.41c.39.39.9.59 1.41.59.51 0 1.02-.2 1.41-.59l7.78-7.78 2.81-2.81c.8-.78.8-2.07 0-2.86zM5.41 20L4 18.59l7.72-7.72 1.47 1.35L5.41 20z\"/>\n",
              "  </svg>\n",
              "      </button>\n",
              "      \n",
              "  <style>\n",
              "    .colab-df-container {\n",
              "      display:flex;\n",
              "      flex-wrap:wrap;\n",
              "      gap: 12px;\n",
              "    }\n",
              "\n",
              "    .colab-df-convert {\n",
              "      background-color: #E8F0FE;\n",
              "      border: none;\n",
              "      border-radius: 50%;\n",
              "      cursor: pointer;\n",
              "      display: none;\n",
              "      fill: #1967D2;\n",
              "      height: 32px;\n",
              "      padding: 0 0 0 0;\n",
              "      width: 32px;\n",
              "    }\n",
              "\n",
              "    .colab-df-convert:hover {\n",
              "      background-color: #E2EBFA;\n",
              "      box-shadow: 0px 1px 2px rgba(60, 64, 67, 0.3), 0px 1px 3px 1px rgba(60, 64, 67, 0.15);\n",
              "      fill: #174EA6;\n",
              "    }\n",
              "\n",
              "    [theme=dark] .colab-df-convert {\n",
              "      background-color: #3B4455;\n",
              "      fill: #D2E3FC;\n",
              "    }\n",
              "\n",
              "    [theme=dark] .colab-df-convert:hover {\n",
              "      background-color: #434B5C;\n",
              "      box-shadow: 0px 1px 3px 1px rgba(0, 0, 0, 0.15);\n",
              "      filter: drop-shadow(0px 1px 2px rgba(0, 0, 0, 0.3));\n",
              "      fill: #FFFFFF;\n",
              "    }\n",
              "  </style>\n",
              "\n",
              "      <script>\n",
              "        const buttonEl =\n",
              "          document.querySelector('#df-d9ae9d81-98f1-4279-ab8b-382d336418ec button.colab-df-convert');\n",
              "        buttonEl.style.display =\n",
              "          google.colab.kernel.accessAllowed ? 'block' : 'none';\n",
              "\n",
              "        async function convertToInteractive(key) {\n",
              "          const element = document.querySelector('#df-d9ae9d81-98f1-4279-ab8b-382d336418ec');\n",
              "          const dataTable =\n",
              "            await google.colab.kernel.invokeFunction('convertToInteractive',\n",
              "                                                     [key], {});\n",
              "          if (!dataTable) return;\n",
              "\n",
              "          const docLinkHtml = 'Like what you see? Visit the ' +\n",
              "            '<a target=\"_blank\" href=https://colab.research.google.com/notebooks/data_table.ipynb>data table notebook</a>'\n",
              "            + ' to learn more about interactive tables.';\n",
              "          element.innerHTML = '';\n",
              "          dataTable['output_type'] = 'display_data';\n",
              "          await google.colab.output.renderOutput(dataTable, element);\n",
              "          const docLink = document.createElement('div');\n",
              "          docLink.innerHTML = docLinkHtml;\n",
              "          element.appendChild(docLink);\n",
              "        }\n",
              "      </script>\n",
              "    </div>\n",
              "  </div>\n",
              "  "
            ],
            "text/plain": [
              "                       time       low      high      open     close  \\\n",
              "3613017 2022-07-25 23:56:00  21291.13  21331.61  21297.80  21327.39   \n",
              "3613018 2022-07-25 23:57:00  21298.33  21345.75  21327.36  21309.08   \n",
              "3613019 2022-07-25 23:58:00  21308.03  21328.65  21309.08  21321.67   \n",
              "3613020 2022-07-25 23:59:00  21275.65  21328.60  21321.92  21313.41   \n",
              "3613021 2022-07-26 00:00:00  21234.01  21317.17  21312.06  21248.31   \n",
              "\n",
              "             volume  \n",
              "3613017   17.155631  \n",
              "3613018   37.797065  \n",
              "3613019    6.614248  \n",
              "3613020   50.148258  \n",
              "3613021  111.412603  "
            ]
          },
          "execution_count": 31,
          "metadata": {},
          "output_type": "execute_result"
        }
      ],
      "source": [
        "btc_input_df_datetype.tail()"
      ]
    },
    {
      "cell_type": "code",
      "execution_count": null,
      "metadata": {
        "colab": {
          "base_uri": "https://localhost:8080/",
          "height": 206
        },
        "id": "lJI15tg-6AVr",
        "outputId": "36834cdd-3039-4be3-81e1-54995ed80e8d"
      },
      "outputs": [
        {
          "data": {
            "text/html": [
              "\n",
              "  <div id=\"df-37541ae2-dae6-4745-9723-e9d06b70e22d\">\n",
              "    <div class=\"colab-df-container\">\n",
              "      <div>\n",
              "<style scoped>\n",
              "    .dataframe tbody tr th:only-of-type {\n",
              "        vertical-align: middle;\n",
              "    }\n",
              "\n",
              "    .dataframe tbody tr th {\n",
              "        vertical-align: top;\n",
              "    }\n",
              "\n",
              "    .dataframe thead th {\n",
              "        text-align: right;\n",
              "    }\n",
              "</style>\n",
              "<table border=\"1\" class=\"dataframe\">\n",
              "  <thead>\n",
              "    <tr style=\"text-align: right;\">\n",
              "      <th></th>\n",
              "      <th>time</th>\n",
              "      <th>low</th>\n",
              "      <th>high</th>\n",
              "      <th>open</th>\n",
              "      <th>close</th>\n",
              "      <th>volume</th>\n",
              "    </tr>\n",
              "  </thead>\n",
              "  <tbody>\n",
              "    <tr>\n",
              "      <th>0</th>\n",
              "      <td>2015-08-01 00:00:00</td>\n",
              "      <td>284.89</td>\n",
              "      <td>285.25</td>\n",
              "      <td>285.20</td>\n",
              "      <td>284.89</td>\n",
              "      <td>6.2942</td>\n",
              "    </tr>\n",
              "    <tr>\n",
              "      <th>1</th>\n",
              "      <td>2015-08-01 00:01:00</td>\n",
              "      <td>284.82</td>\n",
              "      <td>285.30</td>\n",
              "      <td>285.08</td>\n",
              "      <td>284.82</td>\n",
              "      <td>3.0171</td>\n",
              "    </tr>\n",
              "    <tr>\n",
              "      <th>2</th>\n",
              "      <td>2015-08-01 00:02:00</td>\n",
              "      <td>285.13</td>\n",
              "      <td>285.39</td>\n",
              "      <td>285.18</td>\n",
              "      <td>285.39</td>\n",
              "      <td>4.3034</td>\n",
              "    </tr>\n",
              "    <tr>\n",
              "      <th>3</th>\n",
              "      <td>2015-08-01 00:03:00</td>\n",
              "      <td>285.28</td>\n",
              "      <td>285.28</td>\n",
              "      <td>285.28</td>\n",
              "      <td>285.28</td>\n",
              "      <td>0.1786</td>\n",
              "    </tr>\n",
              "    <tr>\n",
              "      <th>4</th>\n",
              "      <td>2015-08-01 00:04:00</td>\n",
              "      <td>285.23</td>\n",
              "      <td>285.25</td>\n",
              "      <td>285.25</td>\n",
              "      <td>285.25</td>\n",
              "      <td>1.1925</td>\n",
              "    </tr>\n",
              "  </tbody>\n",
              "</table>\n",
              "</div>\n",
              "      <button class=\"colab-df-convert\" onclick=\"convertToInteractive('df-37541ae2-dae6-4745-9723-e9d06b70e22d')\"\n",
              "              title=\"Convert this dataframe to an interactive table.\"\n",
              "              style=\"display:none;\">\n",
              "        \n",
              "  <svg xmlns=\"http://www.w3.org/2000/svg\" height=\"24px\"viewBox=\"0 0 24 24\"\n",
              "       width=\"24px\">\n",
              "    <path d=\"M0 0h24v24H0V0z\" fill=\"none\"/>\n",
              "    <path d=\"M18.56 5.44l.94 2.06.94-2.06 2.06-.94-2.06-.94-.94-2.06-.94 2.06-2.06.94zm-11 1L8.5 8.5l.94-2.06 2.06-.94-2.06-.94L8.5 2.5l-.94 2.06-2.06.94zm10 10l.94 2.06.94-2.06 2.06-.94-2.06-.94-.94-2.06-.94 2.06-2.06.94z\"/><path d=\"M17.41 7.96l-1.37-1.37c-.4-.4-.92-.59-1.43-.59-.52 0-1.04.2-1.43.59L10.3 9.45l-7.72 7.72c-.78.78-.78 2.05 0 2.83L4 21.41c.39.39.9.59 1.41.59.51 0 1.02-.2 1.41-.59l7.78-7.78 2.81-2.81c.8-.78.8-2.07 0-2.86zM5.41 20L4 18.59l7.72-7.72 1.47 1.35L5.41 20z\"/>\n",
              "  </svg>\n",
              "      </button>\n",
              "      \n",
              "  <style>\n",
              "    .colab-df-container {\n",
              "      display:flex;\n",
              "      flex-wrap:wrap;\n",
              "      gap: 12px;\n",
              "    }\n",
              "\n",
              "    .colab-df-convert {\n",
              "      background-color: #E8F0FE;\n",
              "      border: none;\n",
              "      border-radius: 50%;\n",
              "      cursor: pointer;\n",
              "      display: none;\n",
              "      fill: #1967D2;\n",
              "      height: 32px;\n",
              "      padding: 0 0 0 0;\n",
              "      width: 32px;\n",
              "    }\n",
              "\n",
              "    .colab-df-convert:hover {\n",
              "      background-color: #E2EBFA;\n",
              "      box-shadow: 0px 1px 2px rgba(60, 64, 67, 0.3), 0px 1px 3px 1px rgba(60, 64, 67, 0.15);\n",
              "      fill: #174EA6;\n",
              "    }\n",
              "\n",
              "    [theme=dark] .colab-df-convert {\n",
              "      background-color: #3B4455;\n",
              "      fill: #D2E3FC;\n",
              "    }\n",
              "\n",
              "    [theme=dark] .colab-df-convert:hover {\n",
              "      background-color: #434B5C;\n",
              "      box-shadow: 0px 1px 3px 1px rgba(0, 0, 0, 0.15);\n",
              "      filter: drop-shadow(0px 1px 2px rgba(0, 0, 0, 0.3));\n",
              "      fill: #FFFFFF;\n",
              "    }\n",
              "  </style>\n",
              "\n",
              "      <script>\n",
              "        const buttonEl =\n",
              "          document.querySelector('#df-37541ae2-dae6-4745-9723-e9d06b70e22d button.colab-df-convert');\n",
              "        buttonEl.style.display =\n",
              "          google.colab.kernel.accessAllowed ? 'block' : 'none';\n",
              "\n",
              "        async function convertToInteractive(key) {\n",
              "          const element = document.querySelector('#df-37541ae2-dae6-4745-9723-e9d06b70e22d');\n",
              "          const dataTable =\n",
              "            await google.colab.kernel.invokeFunction('convertToInteractive',\n",
              "                                                     [key], {});\n",
              "          if (!dataTable) return;\n",
              "\n",
              "          const docLinkHtml = 'Like what you see? Visit the ' +\n",
              "            '<a target=\"_blank\" href=https://colab.research.google.com/notebooks/data_table.ipynb>data table notebook</a>'\n",
              "            + ' to learn more about interactive tables.';\n",
              "          element.innerHTML = '';\n",
              "          dataTable['output_type'] = 'display_data';\n",
              "          await google.colab.output.renderOutput(dataTable, element);\n",
              "          const docLink = document.createElement('div');\n",
              "          docLink.innerHTML = docLinkHtml;\n",
              "          element.appendChild(docLink);\n",
              "        }\n",
              "      </script>\n",
              "    </div>\n",
              "  </div>\n",
              "  "
            ],
            "text/plain": [
              "                 time     low    high    open   close  volume\n",
              "0 2015-08-01 00:00:00  284.89  285.25  285.20  284.89  6.2942\n",
              "1 2015-08-01 00:01:00  284.82  285.30  285.08  284.82  3.0171\n",
              "2 2015-08-01 00:02:00  285.13  285.39  285.18  285.39  4.3034\n",
              "3 2015-08-01 00:03:00  285.28  285.28  285.28  285.28  0.1786\n",
              "4 2015-08-01 00:04:00  285.23  285.25  285.25  285.25  1.1925"
            ]
          },
          "execution_count": 32,
          "metadata": {},
          "output_type": "execute_result"
        }
      ],
      "source": [
        "btc_input_df_datetype.head()"
      ]
    },
    {
      "cell_type": "code",
      "execution_count": null,
      "metadata": {
        "colab": {
          "base_uri": "https://localhost:8080/",
          "height": 443
        },
        "id": "lNKt0NV96AVs",
        "outputId": "8820edc2-fa81-4bef-c4af-3abf667eda54"
      },
      "outputs": [
        {
          "data": {
            "text/plain": [
              "<matplotlib.axes._subplots.AxesSubplot at 0x7fd457e848d0>"
            ]
          },
          "execution_count": 33,
          "metadata": {},
          "output_type": "execute_result"
        },
        {
          "data": {
            "image/png": "[encoded data removed]",
            "text/plain": [
              "<Figure size 1728x504 with 1 Axes>"
            ]
          },
          "metadata": {},
          "output_type": "display_data"
        }
      ],
      "source": [
        "btc_input_df_datetype.set_index(\"time\").close.plot(figsize=(24,7), title=\"Bitcoin Weighted Price\")"
      ]
    },
    {
      "cell_type": "code",
      "execution_count": null,
      "metadata": {
        "colab": {
          "base_uri": "https://localhost:8080/"
        },
        "id": "dosjgb6JMVEe",
        "outputId": "fb80b10e-367e-41a5-886f-935226ee826b"
      },
      "outputs": [
        {
          "data": {
            "text/plain": [
              "time\n",
              "2015-08-01 00:00:00      284.89\n",
              "2015-08-01 00:01:00      284.82\n",
              "2015-08-01 00:02:00      285.39\n",
              "2015-08-01 00:03:00      285.28\n",
              "2015-08-01 00:04:00      285.25\n",
              "                         ...   \n",
              "2022-07-25 23:56:00    21327.39\n",
              "2022-07-25 23:57:00    21309.08\n",
              "2022-07-25 23:58:00    21321.67\n",
              "2022-07-25 23:59:00    21313.41\n",
              "2022-07-26 00:00:00    21248.31\n",
              "Name: close, Length: 3613022, dtype: float64"
            ]
          },
          "execution_count": 34,
          "metadata": {},
          "output_type": "execute_result"
        }
      ],
      "source": [
        "btc_input_df_datetype.set_index(\"time\").close\n"
      ]
    },
    {
      "cell_type": "code",
      "execution_count": null,
      "metadata": {
        "colab": {
          "base_uri": "https://localhost:8080/"
        },
        "id": "ber-ehegSyUS",
        "outputId": "a38687ed-bafd-4786-98b4-38489fa5c725"
      },
      "outputs": [
        {
          "data": {
            "text/plain": [
              "array([  284.89,   284.82,   285.39, ..., 21321.67, 21313.41, 21248.31])"
            ]
          },
          "execution_count": 27,
          "metadata": {},
          "output_type": "execute_result"
        }
      ],
      "source": [
        "x = btc_input_df_datetype.close.values\n",
        "x"
      ]
    },
    {
      "cell_type": "code",
      "execution_count": null,
      "metadata": {
        "colab": {
          "base_uri": "https://localhost:8080/",
          "height": 441
        },
        "id": "gVuINxIybOCO",
        "outputId": "0eff4096-f071-442d-d203-75f132f6a360"
      },
      "outputs": [
        {
          "name": "stdout",
          "output_type": "stream",
          "text": [
            "\r[*********************100%***********************]  1 of 1 completed\n"
          ]
        },
        {
          "data": {
            "text/html": [
              "\n",
              "  <div id=\"df-8c646e05-8941-4917-8475-7a3360e51ddb\">\n",
              "    <div class=\"colab-df-container\">\n",
              "      <div>\n",
              "<style scoped>\n",
              "    .dataframe tbody tr th:only-of-type {\n",
              "        vertical-align: middle;\n",
              "    }\n",
              "\n",
              "    .dataframe tbody tr th {\n",
              "        vertical-align: top;\n",
              "    }\n",
              "\n",
              "    .dataframe thead th {\n",
              "        text-align: right;\n",
              "    }\n",
              "</style>\n",
              "<table border=\"1\" class=\"dataframe\">\n",
              "  <thead>\n",
              "    <tr style=\"text-align: right;\">\n",
              "      <th></th>\n",
              "      <th>Date</th>\n",
              "      <th>Open</th>\n",
              "      <th>High</th>\n",
              "      <th>Low</th>\n",
              "      <th>Close</th>\n",
              "      <th>Adj Close</th>\n",
              "      <th>Volume</th>\n",
              "    </tr>\n",
              "  </thead>\n",
              "  <tbody>\n",
              "    <tr>\n",
              "      <th>0</th>\n",
              "      <td>2017-11-09 00:00:00+00:00</td>\n",
              "      <td>0.217911</td>\n",
              "      <td>0.221791</td>\n",
              "      <td>0.214866</td>\n",
              "      <td>0.217488</td>\n",
              "      <td>0.217488</td>\n",
              "      <td>147916992</td>\n",
              "    </tr>\n",
              "    <tr>\n",
              "      <th>1</th>\n",
              "      <td>2017-11-10 00:00:00+00:00</td>\n",
              "      <td>0.218256</td>\n",
              "      <td>0.219068</td>\n",
              "      <td>0.205260</td>\n",
              "      <td>0.206483</td>\n",
              "      <td>0.206483</td>\n",
              "      <td>141032992</td>\n",
              "    </tr>\n",
              "    <tr>\n",
              "      <th>2</th>\n",
              "      <td>2017-11-11 00:00:00+00:00</td>\n",
              "      <td>0.205948</td>\n",
              "      <td>0.214456</td>\n",
              "      <td>0.205459</td>\n",
              "      <td>0.210430</td>\n",
              "      <td>0.210430</td>\n",
              "      <td>134503008</td>\n",
              "    </tr>\n",
              "    <tr>\n",
              "      <th>3</th>\n",
              "      <td>2017-11-12 00:00:00+00:00</td>\n",
              "      <td>0.210214</td>\n",
              "      <td>0.210214</td>\n",
              "      <td>0.195389</td>\n",
              "      <td>0.197339</td>\n",
              "      <td>0.197339</td>\n",
              "      <td>251175008</td>\n",
              "    </tr>\n",
              "    <tr>\n",
              "      <th>4</th>\n",
              "      <td>2017-11-13 00:00:00+00:00</td>\n",
              "      <td>0.197472</td>\n",
              "      <td>0.204081</td>\n",
              "      <td>0.197456</td>\n",
              "      <td>0.203442</td>\n",
              "      <td>0.203442</td>\n",
              "      <td>132567000</td>\n",
              "    </tr>\n",
              "    <tr>\n",
              "      <th>...</th>\n",
              "      <td>...</td>\n",
              "      <td>...</td>\n",
              "      <td>...</td>\n",
              "      <td>...</td>\n",
              "      <td>...</td>\n",
              "      <td>...</td>\n",
              "      <td>...</td>\n",
              "    </tr>\n",
              "    <tr>\n",
              "      <th>1792</th>\n",
              "      <td>2022-10-06 00:00:00+00:00</td>\n",
              "      <td>0.489699</td>\n",
              "      <td>0.504087</td>\n",
              "      <td>0.489372</td>\n",
              "      <td>0.493184</td>\n",
              "      <td>0.493184</td>\n",
              "      <td>1913140571</td>\n",
              "    </tr>\n",
              "    <tr>\n",
              "      <th>1793</th>\n",
              "      <td>2022-10-07 00:00:00+00:00</td>\n",
              "      <td>0.493277</td>\n",
              "      <td>0.521646</td>\n",
              "      <td>0.484205</td>\n",
              "      <td>0.518278</td>\n",
              "      <td>0.518278</td>\n",
              "      <td>2627481992</td>\n",
              "    </tr>\n",
              "    <tr>\n",
              "      <th>1794</th>\n",
              "      <td>2022-10-08 00:00:00+00:00</td>\n",
              "      <td>0.518225</td>\n",
              "      <td>0.527902</td>\n",
              "      <td>0.514383</td>\n",
              "      <td>0.517113</td>\n",
              "      <td>0.517113</td>\n",
              "      <td>1771062053</td>\n",
              "    </tr>\n",
              "    <tr>\n",
              "      <th>1795</th>\n",
              "      <td>2022-10-09 00:00:00+00:00</td>\n",
              "      <td>0.517149</td>\n",
              "      <td>0.541416</td>\n",
              "      <td>0.508167</td>\n",
              "      <td>0.534061</td>\n",
              "      <td>0.534061</td>\n",
              "      <td>1789206998</td>\n",
              "    </tr>\n",
              "    <tr>\n",
              "      <th>1796</th>\n",
              "      <td>2022-10-10 00:00:00+00:00</td>\n",
              "      <td>0.534029</td>\n",
              "      <td>0.537319</td>\n",
              "      <td>0.497014</td>\n",
              "      <td>0.497014</td>\n",
              "      <td>0.497014</td>\n",
              "      <td>2359086772</td>\n",
              "    </tr>\n",
              "  </tbody>\n",
              "</table>\n",
              "<p>1797 rows × 7 columns</p>\n",
              "</div>\n",
              "      <button class=\"colab-df-convert\" onclick=\"convertToInteractive('df-8c646e05-8941-4917-8475-7a3360e51ddb')\"\n",
              "              title=\"Convert this dataframe to an interactive table.\"\n",
              "              style=\"display:none;\">\n",
              "        \n",
              "  <svg xmlns=\"http://www.w3.org/2000/svg\" height=\"24px\"viewBox=\"0 0 24 24\"\n",
              "       width=\"24px\">\n",
              "    <path d=\"M0 0h24v24H0V0z\" fill=\"none\"/>\n",
              "    <path d=\"M18.56 5.44l.94 2.06.94-2.06 2.06-.94-2.06-.94-.94-2.06-.94 2.06-2.06.94zm-11 1L8.5 8.5l.94-2.06 2.06-.94-2.06-.94L8.5 2.5l-.94 2.06-2.06.94zm10 10l.94 2.06.94-2.06 2.06-.94-2.06-.94-.94-2.06-.94 2.06-2.06.94z\"/><path d=\"M17.41 7.96l-1.37-1.37c-.4-.4-.92-.59-1.43-.59-.52 0-1.04.2-1.43.59L10.3 9.45l-7.72 7.72c-.78.78-.78 2.05 0 2.83L4 21.41c.39.39.9.59 1.41.59.51 0 1.02-.2 1.41-.59l7.78-7.78 2.81-2.81c.8-.78.8-2.07 0-2.86zM5.41 20L4 18.59l7.72-7.72 1.47 1.35L5.41 20z\"/>\n",
              "  </svg>\n",
              "      </button>\n",
              "      \n",
              "  <style>\n",
              "    .colab-df-container {\n",
              "      display:flex;\n",
              "      flex-wrap:wrap;\n",
              "      gap: 12px;\n",
              "    }\n",
              "\n",
              "    .colab-df-convert {\n",
              "      background-color: #E8F0FE;\n",
              "      border: none;\n",
              "      border-radius: 50%;\n",
              "      cursor: pointer;\n",
              "      display: none;\n",
              "      fill: #1967D2;\n",
              "      height: 32px;\n",
              "      padding: 0 0 0 0;\n",
              "      width: 32px;\n",
              "    }\n",
              "\n",
              "    .colab-df-convert:hover {\n",
              "      background-color: #E2EBFA;\n",
              "      box-shadow: 0px 1px 2px rgba(60, 64, 67, 0.3), 0px 1px 3px 1px rgba(60, 64, 67, 0.15);\n",
              "      fill: #174EA6;\n",
              "    }\n",
              "\n",
              "    [theme=dark] .colab-df-convert {\n",
              "      background-color: #3B4455;\n",
              "      fill: #D2E3FC;\n",
              "    }\n",
              "\n",
              "    [theme=dark] .colab-df-convert:hover {\n",
              "      background-color: #434B5C;\n",
              "      box-shadow: 0px 1px 3px 1px rgba(0, 0, 0, 0.15);\n",
              "      filter: drop-shadow(0px 1px 2px rgba(0, 0, 0, 0.3));\n",
              "      fill: #FFFFFF;\n",
              "    }\n",
              "  </style>\n",
              "\n",
              "      <script>\n",
              "        const buttonEl =\n",
              "          document.querySelector('#df-8c646e05-8941-4917-8475-7a3360e51ddb button.colab-df-convert');\n",
              "        buttonEl.style.display =\n",
              "          google.colab.kernel.accessAllowed ? 'block' : 'none';\n",
              "\n",
              "        async function convertToInteractive(key) {\n",
              "          const element = document.querySelector('#df-8c646e05-8941-4917-8475-7a3360e51ddb');\n",
              "          const dataTable =\n",
              "            await google.colab.kernel.invokeFunction('convertToInteractive',\n",
              "                                                     [key], {});\n",
              "          if (!dataTable) return;\n",
              "\n",
              "          const docLinkHtml = 'Like what you see? Visit the ' +\n",
              "            '<a target=\"_blank\" href=https://colab.research.google.com/notebooks/data_table.ipynb>data table notebook</a>'\n",
              "            + ' to learn more about interactive tables.';\n",
              "          element.innerHTML = '';\n",
              "          dataTable['output_type'] = 'display_data';\n",
              "          await google.colab.output.renderOutput(dataTable, element);\n",
              "          const docLink = document.createElement('div');\n",
              "          docLink.innerHTML = docLinkHtml;\n",
              "          element.appendChild(docLink);\n",
              "        }\n",
              "      </script>\n",
              "    </div>\n",
              "  </div>\n",
              "  "
            ],
            "text/plain": [
              "                          Date      Open      High       Low     Close  \\\n",
              "0    2017-11-09 00:00:00+00:00  0.217911  0.221791  0.214866  0.217488   \n",
              "1    2017-11-10 00:00:00+00:00  0.218256  0.219068  0.205260  0.206483   \n",
              "2    2017-11-11 00:00:00+00:00  0.205948  0.214456  0.205459  0.210430   \n",
              "3    2017-11-12 00:00:00+00:00  0.210214  0.210214  0.195389  0.197339   \n",
              "4    2017-11-13 00:00:00+00:00  0.197472  0.204081  0.197456  0.203442   \n",
              "...                        ...       ...       ...       ...       ...   \n",
              "1792 2022-10-06 00:00:00+00:00  0.489699  0.504087  0.489372  0.493184   \n",
              "1793 2022-10-07 00:00:00+00:00  0.493277  0.521646  0.484205  0.518278   \n",
              "1794 2022-10-08 00:00:00+00:00  0.518225  0.527902  0.514383  0.517113   \n",
              "1795 2022-10-09 00:00:00+00:00  0.517149  0.541416  0.508167  0.534061   \n",
              "1796 2022-10-10 00:00:00+00:00  0.534029  0.537319  0.497014  0.497014   \n",
              "\n",
              "      Adj Close      Volume  \n",
              "0      0.217488   147916992  \n",
              "1      0.206483   141032992  \n",
              "2      0.210430   134503008  \n",
              "3      0.197339   251175008  \n",
              "4      0.203442   132567000  \n",
              "...         ...         ...  \n",
              "1792   0.493184  1913140571  \n",
              "1793   0.518278  2627481992  \n",
              "1794   0.517113  1771062053  \n",
              "1795   0.534061  1789206998  \n",
              "1796   0.497014  2359086772  \n",
              "\n",
              "[1797 rows x 7 columns]"
            ]
          },
          "execution_count": 3,
          "metadata": {},
          "output_type": "execute_result"
        }
      ],
      "source": [
        "# import streamlit as st\n",
        "from datetime import date\n",
        "\n",
        "import yfinance as yf\n",
        "# from fbprophet import Prophet\n",
        "# from fbprophet.plot import plot_plotly\n",
        "from plotly import graph_objs as go\n",
        "\n",
        "\n",
        "\n",
        "def load_data(ticker):\n",
        "    START = \"2015-01-01\"\n",
        "    TODAY = date.today().strftime(\"%Y-%m-%d\")\n",
        "    \n",
        "    data = yf.download(ticker, START, TODAY)\n",
        "    data.reset_index(inplace=True)\n",
        "    return data\n",
        "\n",
        "selected_stock = \"XRP-USD\"\n",
        "data = load_data(selected_stock)\n",
        "data\n"
      ]
    },
    {
      "cell_type": "code",
      "execution_count": null,
      "metadata": {
        "colab": {
          "base_uri": "https://localhost:8080/",
          "height": 471
        },
        "id": "xUglJ66XhcZJ",
        "outputId": "f1681934-10d1-4b62-9f64-a2ffd623ce4a"
      },
      "outputs": [
        {
          "data": {
            "text/plain": [
              "<matplotlib.axes._subplots.AxesSubplot at 0x7f2ddd4ab850>"
            ]
          },
          "execution_count": 4,
          "metadata": {},
          "output_type": "execute_result"
        },
        {
          "data": {
            "image/png": "[encoded data removed]",
            "text/plain": [
              "<Figure size 1728x504 with 1 Axes>"
            ]
          },
          "metadata": {},
          "output_type": "display_data"
        }
      ],
      "source": [
        "data.set_index(\"Date\").Close.plot(figsize=(24,7), title=selected_stock)"
      ]
    },
    {
      "cell_type": "code",
      "execution_count": null,
      "metadata": {
        "colab": {
          "base_uri": "https://localhost:8080/"
        },
        "id": "VMsDWxHuhYv_",
        "outputId": "543d0dbe-8763-41a7-cd15-c3571523f4b2"
      },
      "outputs": [
        {
          "data": {
            "text/plain": [
              "0         314.248993\n",
              "1         315.032013\n",
              "2         281.082001\n",
              "3         264.195007\n",
              "4         274.473999\n",
              "            ...     \n",
              "2835    19955.443359\n",
              "2836    19546.849609\n",
              "2837    19416.568359\n",
              "2838    19446.425781\n",
              "2839    19141.484375\n",
              "Name: Close, Length: 2840, dtype: float64"
            ]
          },
          "execution_count": 7,
          "metadata": {},
          "output_type": "execute_result"
        }
      ],
      "source": [
        "data.Close"
      ]
    },
    {
      "attachments": {},
      "cell_type": "markdown",
      "metadata": {
        "id": "700Ex43K6AVs"
      },
      "source": [
        "# Lag Plot\n"
      ]
    },
    {
      "cell_type": "code",
      "execution_count": null,
      "metadata": {
        "colab": {
          "base_uri": "https://localhost:8080/",
          "height": 584
        },
        "id": "VJiSfdbc6AVs",
        "outputId": "4a569765-187e-40ff-d4b0-35ffcd7644ac"
      },
      "outputs": [
        {
          "name": "stderr",
          "output_type": "stream",
          "text": [
            "WARNING:matplotlib.legend:No handles with labels found to put in legend.\n"
          ]
        },
        {
          "data": {
            "image/png": "[encoded data removed]",
            "text/plain": [
              "<Figure size 1080x864 with 5 Axes>"
            ]
          },
          "metadata": {},
          "output_type": "display_data"
        }
      ],
      "source": [
        "plt.figure(figsize=(15,12))\n",
        "plt.suptitle('Lag Plots', fontsize=22)\n",
        "\n",
        "plt.subplot(3,3,1)\n",
        "pd.plotting.lag_plot(btc_input_df_datetype['close'], lag=1) #minute lag\n",
        "plt.title('1-Minute Lag')\n",
        "\n",
        "plt.subplot(3,3,2)\n",
        "pd.plotting.lag_plot(btc_input_df_datetype['close'], lag=60) #hourley lag\n",
        "plt.title('1-Hour Lag')\n",
        "\n",
        "plt.subplot(3,3,3)\n",
        "pd.plotting.lag_plot(btc_input_df_datetype['close'], lag=1440) #Daily lag\n",
        "plt.title('Daily Lag')\n",
        "\n",
        "plt.subplot(3,3,4)\n",
        "pd.plotting.lag_plot(btc_input_df_datetype['close'], lag=10080) #weekly lag\n",
        "plt.title('Weekly Lag')\n",
        "\n",
        "plt.subplot(3,3,5)\n",
        "pd.plotting.lag_plot(btc_input_df_datetype['close'], lag=43200) #month lag\n",
        "plt.title('1-Month Lag')\n",
        "\n",
        "plt.legend()\n",
        "plt.show()"
      ]
    },
    {
      "attachments": {},
      "cell_type": "markdown",
      "metadata": {
        "id": "D2V1-y9d6AVt"
      },
      "source": [
        "We can see that there is a positive correlation for minute, hour and daily lag plots. \n",
        "\n",
        "Something else to consider is that price might flactuate a lot in small time periods like minute and hour and we might see fake changes. So for the purpose of this project we will only focus on daily time period."
      ]
    },
    {
      "cell_type": "code",
      "execution_count": null,
      "metadata": {
        "colab": {
          "base_uri": "https://localhost:8080/",
          "height": 235
        },
        "id": "vRovG1_P6AVu",
        "outputId": "58500540-b765-4415-c172-a9c4219b06f5"
      },
      "outputs": [],
      "source": [
        "btc_input_df_datetype['date'] = pd.to_datetime(btc_input_df_datetype['time'],unit='s').dt.date\n",
        "\n",
        "group = btc_input_df_datetype.groupby('date')\n",
        "\n",
        "btc_closing_price_groupby_date = group['close'].mean()"
      ]
    },
    {
      "cell_type": "code",
      "execution_count": null,
      "metadata": {
        "colab": {
          "base_uri": "https://localhost:8080/",
          "height": 217
        },
        "id": "p979QFbK6AVu",
        "outputId": "a089dfca-ea90-4161-fa8d-86de02de1dfe"
      },
      "outputs": [],
      "source": [
        "btc_closing_price_groupby_date = btc_closing_price_groupby_date.reset_index()\n",
        "btc_closing_price_groupby_date['date']\n",
        "\n",
        "# print(\"Length of btc_closing_price_groupby_date :\", len(btc_closing_price_groupby_date))"
      ]
    },
    {
      "attachments": {},
      "cell_type": "markdown",
      "metadata": {
        "id": "xwb4VnGv6AVu"
      },
      "source": [
        "# Train Test Split"
      ]
    },
    {
      "cell_type": "code",
      "execution_count": null,
      "metadata": {
        "colab": {
          "base_uri": "https://localhost:8080/"
        },
        "id": "39Iq6yMW6AVv",
        "outputId": "5623420d-9645-4ddb-d88d-9833bebccac9"
      },
      "outputs": [
        {
          "name": "stdout",
          "output_type": "stream",
          "text": [
            "(1457, 1)\n",
            "(170, 1)\n",
            "(170, 1)\n"
          ]
        }
      ],
      "source": [
        "validation_size = int(((len(data)*0.1)/10))*10\n",
        "test_size = int(((len(data)*0.1)/10))*10\n",
        "\n",
        "# Set Train data to be uplo ( Total data length - prediction_days )\n",
        "df_train= data['Close'][:len(data['Close'])-test_size-validation_size].values.reshape(-1,1)\n",
        "\n",
        "# Set Test data to be the last prediction_days (or 60 days in this case)\n",
        "df_validation= data['Close'][len(data['Close'])-test_size-validation_size:len(data['Close'])-test_size].values.reshape(-1,1)\n",
        "\n",
        "df_test= data['Close'][len(data['Close'])-test_size:].values.reshape(-1,1)\n",
        "\n",
        "print(df_train.shape)\n",
        "print(df_validation.shape)\n",
        "print(df_test.shape)"
      ]
    },
    {
      "cell_type": "code",
      "execution_count": null,
      "metadata": {
        "colab": {
          "base_uri": "https://localhost:8080/",
          "height": 460
        },
        "id": "CFQ1cqkJ6AVv",
        "outputId": "3a90cfa4-a803-4058-8912-cd99eb3fc9ae"
      },
      "outputs": [
        {
          "data": {
            "text/plain": [
              "<matplotlib.legend.Legend at 0x7f2ddd585b90>"
            ]
          },
          "execution_count": 6,
          "metadata": {},
          "output_type": "execute_result"
        },
        {
          "data": {
            "image/png": "[encoded data removed]",
            "text/plain": [
              "<Figure size 936x504 with 1 Axes>"
            ]
          },
          "metadata": {},
          "output_type": "display_data"
        }
      ],
      "source": [
        "new_train = pd.DataFrame(df_train)\n",
        "new_train.columns = ['train']\n",
        "\n",
        "# Retrieve index values\n",
        "val_index = new_train['train'].tail(len(df_validation)).index + len(df_validation)\n",
        "test_index = new_train['train'].tail(len(df_test)).index + len(df_validation) + len(df_test)\n",
        "\n",
        "# Make a dataframe with your prediction values and your index\n",
        "new_val = pd.DataFrame(index = val_index, data = df_validation)\n",
        "new_test = pd.DataFrame(index = test_index, data = df_test)\n",
        "\n",
        "\n",
        "fig, ax = plt.subplots(1, figsize=(13, 7))\n",
        "ax.plot(new_train, label='Train', linewidth=2)\n",
        "ax.plot(new_val, label='Validation', linewidth=2)\n",
        "ax.plot(new_test, label='Test', linewidth=2)\n",
        "ax.set_ylabel('Price USD', fontsize=14)\n",
        "ax.set_title(selected_stock, fontsize=16)\n",
        "ax.legend(loc='best', fontsize=16)\n"
      ]
    },
    {
      "cell_type": "code",
      "execution_count": null,
      "metadata": {
        "id": "iN7Erdz_6AVw"
      },
      "outputs": [],
      "source": [
        "scaler_train = MinMaxScaler(feature_range=(0, 1))\n",
        "scaled_train = scaler_train.fit_transform(df_train)\n",
        "\n",
        "scaler_validation = MinMaxScaler(feature_range=(0, 1))\n",
        "scaled_validation = scaler_validation.fit_transform(df_validation)\n",
        "\n",
        "scaler_test = MinMaxScaler(feature_range=(0, 1))\n",
        "scaled_test = scaler_test.fit_transform(df_test)"
      ]
    },
    {
      "cell_type": "code",
      "execution_count": null,
      "metadata": {
        "colab": {
          "base_uri": "https://localhost:8080/"
        },
        "id": "FrHzOJVk6AVx",
        "outputId": "de139155-f6c7-465b-827a-2f9132c08b86"
      },
      "outputs": [
        {
          "name": "stdout",
          "output_type": "stream",
          "text": [
            "trainX:  (1357, 100)\n",
            "trainY:  (1357,)\n",
            "validationX:  (70, 100)\n",
            "validationY:  (70,)\n",
            "testY:  (70, 100)\n",
            "testY (70,)\n"
          ]
        }
      ],
      "source": [
        "def dataset_generator_lstm(dataset, look_back=100):\n",
        "    # A “lookback period” defines the window-size of how many\n",
        "    # previous timesteps are used in order to predict\n",
        "    # the subsequent timestep. \n",
        "    dataX, dataY = [], []\n",
        "    \n",
        "    for i in range(len(dataset) - look_back):\n",
        "        window_size_x = dataset[i:(i + look_back), 0]\n",
        "        dataX.append(window_size_x)\n",
        "        dataY.append(dataset[i + look_back, 0]) # this is the label or actual y-value\n",
        "    return np.array(dataX), np.array(dataY)\n",
        "\n",
        "trainX, trainY = dataset_generator_lstm(scaled_train)\n",
        "\n",
        "validationX, validationY = dataset_generator_lstm(scaled_validation)\n",
        "\n",
        "testX, testY = dataset_generator_lstm(scaled_test)\n",
        "\n",
        "print(\"trainX: \", trainX.shape)\n",
        "print(\"trainY: \", trainY.shape)\n",
        "print(\"validationX: \", validationX.shape)\n",
        "print(\"validationY: \", validationY.shape)\n",
        "print(\"testY: \", testX.shape)\n",
        "print(\"testY\", testY.shape)"
      ]
    },
    {
      "cell_type": "code",
      "execution_count": null,
      "metadata": {
        "colab": {
          "base_uri": "https://localhost:8080/"
        },
        "id": "kyyKfGZk6ufn",
        "outputId": "03a544f2-2469-4ec6-f85f-56df7b86b0c5"
      },
      "outputs": [
        {
          "data": {
            "text/plain": [
              "array([[0.02404225, 0.02064373, 0.02186262, ..., 0.30942894, 0.31104712,\n",
              "        0.30832029],\n",
              "       [0.02064373, 0.02186262, 0.01781991, ..., 0.31104712, 0.30832029,\n",
              "        0.3289955 ],\n",
              "       [0.02186262, 0.01781991, 0.01970462, ..., 0.30832029, 0.3289955 ,\n",
              "        0.30289439],\n",
              "       ...,\n",
              "       [0.14413118, 0.15007928, 0.15594248, ..., 0.29161919, 0.3006669 ,\n",
              "        0.29437323],\n",
              "       [0.15007928, 0.15594248, 0.18090745, ..., 0.3006669 , 0.29437323,\n",
              "        0.30775391],\n",
              "       [0.15594248, 0.18090745, 0.18787805, ..., 0.29437323, 0.30775391,\n",
              "        0.33017395]])"
            ]
          },
          "execution_count": 9,
          "metadata": {},
          "output_type": "execute_result"
        }
      ],
      "source": [
        "trainX"
      ]
    },
    {
      "cell_type": "code",
      "execution_count": null,
      "metadata": {
        "colab": {
          "base_uri": "https://localhost:8080/"
        },
        "id": "FLOtrUiH6ygu",
        "outputId": "c92a8d19-86e4-4209-a664-79bd29aff99e"
      },
      "outputs": [
        {
          "data": {
            "text/plain": [
              "array([0.3289955 , 0.30289439, 0.31029362, ..., 0.30775391, 0.33017395,\n",
              "       0.32807616])"
            ]
          },
          "execution_count": 10,
          "metadata": {},
          "output_type": "execute_result"
        }
      ],
      "source": [
        "trainY"
      ]
    },
    {
      "attachments": {},
      "cell_type": "markdown",
      "metadata": {
        "id": "IrLH3PbP6AVy"
      },
      "source": [
        "-------------------------------\n",
        "\n",
        "# Prepare data in 3D shape of [samples, time steps, features] to train LSTM model"
      ]
    },
    {
      "cell_type": "code",
      "execution_count": null,
      "metadata": {
        "colab": {
          "base_uri": "https://localhost:8080/"
        },
        "id": "TkaULzMX6AVy",
        "outputId": "07ad9d3f-b60e-48b1-abb3-4aab0d8e5b85"
      },
      "outputs": [
        {
          "name": "stdout",
          "output_type": "stream",
          "text": [
            "Shape of trainX:  (1357, 100, 1)\n",
            "Shape of validationX:  (70, 100, 1)\n",
            "Shape of testX:  (70, 100, 1)\n",
            "Layer input shape:  (100, 1)\n"
          ]
        }
      ],
      "source": [
        "trainX = np.reshape(trainX, (trainX.shape[0], trainX.shape[1], 1))\n",
        "\n",
        "validationX = np.reshape(validationX, (validationX.shape[0], validationX.shape[1], 1 ))\n",
        "\n",
        "testX = np.reshape(testX, (testX.shape[0], testX.shape[1], 1 ))\n",
        "\n",
        "print(\"Shape of trainX: \", trainX.shape)\n",
        "print(\"Shape of validationX: \", validationX.shape)\n",
        "print(\"Shape of testX: \", testX.shape)\n",
        "\n",
        "input_shape = (trainX.shape[1], trainX.shape[2])\n",
        "print(\"Layer input shape: \", input_shape)\n"
      ]
    },
    {
      "cell_type": "code",
      "execution_count": null,
      "metadata": {
        "colab": {
          "base_uri": "https://localhost:8080/"
        },
        "id": "IWmGxZll6AVz",
        "outputId": "e74eeda4-b757-49b4-8f68-c60202b501f5"
      },
      "outputs": [
        {
          "name": "stdout",
          "output_type": "stream",
          "text": [
            "trainX.shape[1] - i.e. timesteps in input_shape = (timesteps, n_features)  100\n",
            "trainX.shape[2] - i.e. n_features in input_shape = (timesteps, n_features)  1\n"
          ]
        }
      ],
      "source": [
        "# First checking the values for input_shape = (trainX.shape[1], trainX.shape[2])\n",
        "# Note - `input_shape` of LSTM Model - `input_shape` is supposed to be (timesteps, n_features).\n",
        "\n",
        "print(\"trainX.shape[1] - i.e. timesteps in input_shape = (timesteps, n_features) \", trainX.shape[1])\n",
        "print(\"trainX.shape[2] - i.e. n_features in input_shape = (timesteps, n_features) \", trainX.shape[2])"
      ]
    },
    {
      "cell_type": "code",
      "execution_count": null,
      "metadata": {
        "id": "Mlmn0w6j8rhV"
      },
      "outputs": [],
      "source": [
        "input_shape = (trainX.shape[1], trainX.shape[2])"
      ]
    },
    {
      "cell_type": "code",
      "execution_count": null,
      "metadata": {
        "colab": {
          "base_uri": "https://localhost:8080/"
        },
        "id": "8WId__CS6AV0",
        "outputId": "fb484288-249c-4022-dd71-e95cce88aad1"
      },
      "outputs": [
        {
          "name": "stdout",
          "output_type": "stream",
          "text": [
            "Model: \"sequential\"\n",
            "_________________________________________________________________\n",
            " Layer (type)                Output Shape              Param #   \n",
            "=================================================================\n",
            " lstm (LSTM)                 (None, 128)               66560     \n",
            "                                                                 \n",
            " dense (Dense)               (None, 1)                 129       \n",
            "                                                                 \n",
            "=================================================================\n",
            "Total params: 66,689\n",
            "Trainable params: 66,689\n",
            "Non-trainable params: 0\n",
            "_________________________________________________________________\n"
          ]
        }
      ],
      "source": [
        "LSTM_model = Sequential()\n",
        "\n",
        "LSTM_model.add(LSTM(units = 128, return_sequences = False, input_shape = (trainX.shape[1], trainX.shape[2])))\n",
        "# LSTM_model.add(Dropout(0.1))\n",
        "\n",
        "# LSTM_model.add(LSTM(units = 64, return_sequences = False))\n",
        "# LSTM_model.add(Dropout(0.1))\n",
        "\n",
        "# LSTM_model.add(LSTM(units = 50, return_sequences = False))\n",
        "\n",
        "\n",
        "\n",
        "# LSTM_model.add(Dropout(0.1))\n",
        "\n",
        "# LSTM_model.add(LSTM(units = 64, return_sequences = False))\n",
        "\n",
        "# LSTM_model.add(Dropout(0.2))\n",
        "# LSTM_model.add(Dense(units = 32))\n",
        "\n",
        "# LSTM_model.add(Dense(units = 8))\n",
        "\n",
        "LSTM_model.add(Dense(units = 1))\n",
        "\n",
        "\n",
        "\n",
        "# Adding the first LSTM layer and some Dropout regularisation\n",
        "# You must set return_sequences=True when stacking LSTM layers so that the second LSTM layer\n",
        "# has a compatible n-dimensional sequence input.\n",
        "# This hyper parameter should be set to False (which is the default value) for the last layer\n",
        "# and true for the other previous layers.\n",
        "\n",
        "# regressor.add(LSTM(units = 128, return_sequences=True, input_shape = (trainX.shape[1], trainX.shape[2])))\n",
        "# LSTM_model.add(LSTM(units = 128, return_sequences=True, input_shape = (trainX.shape[1], trainX.shape[2])))\n",
        "# LSTM_model.add(Dropout(0.2))\n",
        "# # # Adding a second LSTM layer and some Dropout regularisation\n",
        "\n",
        "# LSTM_model.add(LSTM(units = 64, return_sequences=True, input_shape = (trainX.shape[1], trainX.shape[2])))\n",
        "# LSTM_model.add(Dropout(0.2))\n",
        "\n",
        "# LSTM_model.add(LSTM(units = 32, input_shape = (trainX.shape[1], trainX.shape[2])))\n",
        "# LSTM_model.add(Dropout(0.2))\n",
        "\n",
        "# LSTM_model.add(LSTM(units = 5, return_sequences=True, input_shape = (trainX.shape[1], trainX.shape[2])))\n",
        "# # LSTM_model.add(Activation('tanh'))\n",
        "# LSTM_model.add(LSTM(units = 5, input_shape = (trainX.shape[1], trainX.shape[2])))\n",
        "\n",
        "# LSTM_model.add(Dense(units = 1))\n",
        "# LSTM_model.add(LeakyReLU())\n",
        "\n",
        "# LSTM_model.add(LSTM(units = 50, return_sequences=True, input_shape = (trainX.shape[1], trainX.shape[2]), activation='relu'))\n",
        "# LSTM_model.add(LSTM(units = 50, activation='relu'))\n",
        "# LSTM_model.add(Dense(units = 1))\n",
        "\n",
        "\n",
        "# LSTM_model.add(LSTM(units = 16, input_shape = (trainX.shape[1], trainX.shape[2])))\n",
        "\n",
        "# LSTM_model.add(Dropout(0.2))\n",
        "# LSTM_model.add(LSTM(units = 50, return_sequences=True, input_shape = (trainX.shape[1], trainX.shape[2])))\n",
        "# LSTM_model.add(Dropout(0.2))\n",
        "# LSTM_model.add(LSTM(units = 50, input_shape = (trainX.shape[1], trainX.shape[2])))\n",
        "# LSTM_model.add(Dropout(0.2))\n",
        "\n",
        "# LSTM_model.add(Activation('linear'))\n",
        "\n",
        "\n",
        "#--------\n",
        "# from keras import regularizers\n",
        "# from keras.layers import LSTM, LeakyReLU, CuDNNLSTM\n",
        "# from keras.layers import Dense, Dropout, Activation, Flatten,Reshape\n",
        "# regressor = Sequential()\n",
        "# regressor.add(LSTM(units=50, activity_regularizer=regularizers.l1(1), input_shape = (trainX.shape[1], trainX.shape[2]),return_sequences=False))\n",
        "# regressor.add(Activation('tanh'))\n",
        "# regressor.add(Dropout(0.2))\n",
        "# regressor.add(Dense(units = 1))\n",
        "# regressor.add(LeakyReLU())\n",
        "#--------\n",
        "\n",
        "\n",
        "# Note - If I plan to add 3-rd or 4-th layers of LSTM then \n",
        "# I must set return_sequences=True in the 2-nd layer above\n",
        "# so that the 3-rd LSTM layer has a compatible n-dimensional sequence input.\n",
        "\n",
        "\n",
        "# Adding a third LSTM layer and some Dropout regularisation\n",
        "# regressor.add(LSTM(units = 64, return_sequences = True, input_shape = (trainX.shape[1], trainX.shape[2])))\n",
        "# regressor.add(Dropout(0.2))\n",
        "\n",
        "# DROPOUT = 0.2\n",
        "# SEQ_LEN = 10\n",
        "# WINDOW_SIZE = SEQ_LEN - 1\n",
        "\n",
        "# LSTM_model.add(Bidirectional(\n",
        "#   LSTM(WINDOW_SIZE, return_sequences=True),\n",
        "#   input_shape= (trainX.shape[1], trainX.shape[2])\n",
        "# ))\n",
        "# LSTM_model.add(Dropout(rate=DROPOUT))\n",
        "\n",
        "# LSTM_model.add(Bidirectional(\n",
        "#   LSTM((WINDOW_SIZE * 2), return_sequences=True)\n",
        "# ))\n",
        "# LSTM_model.add(Dropout(rate=DROPOUT))\n",
        "\n",
        "# LSTM_model.add(Bidirectional(\n",
        "#   LSTM(WINDOW_SIZE, return_sequences=False)\n",
        "# ))\n",
        "\n",
        "# LSTM_model.add(Dense(units=1))\n",
        "\n",
        "# LSTM_model.add(Activation('linear'))\n",
        "\n",
        "\n",
        "# LSTM_model.add(LSTM(units = 128, return_sequences = False, input_shape = (trainX.shape[1], trainX.shape[2])))\n",
        "# LSTM_model.add(Dropout(0.2))\n",
        "# LSTM_model.add(Dense(units = 1))\n",
        "\n",
        "# LSTM_model.summary()\n",
        "\n",
        "# Adding a fourth LSTM layer and some Dropout regularisation\n",
        "# regressor.add(LSTM(units = 64, input_shape = (trainX.shape[1], trainX.shape[2])))\n",
        "# regressor.add(Dropout(0.2))\n",
        "\n",
        "\n",
        "# Adding the output layer\n",
        "\n",
        "\n",
        "# my_LSTM_model = Sequential()\n",
        "# regressor.add(LSTM(units=50, return_sequences=True, input_shape = (trainX.shape[1], trainX.shape[2]), activation='tanh'))\n",
        "# regressor.add(LSTM(units=50, return_sequences=True, input_shape = (trainX.shape[1], trainX.shape[2]), activation='tanh'))\n",
        "# regressor.add(LSTM(units=50, return_sequences=True, input_shape = (trainX.shape[1], trainX.shape[2]), activation='tanh'))\n",
        "# regressor.add(LSTM(units=50, activation='tanh'))\n",
        "# regressor.add(Dropout(0.2))\n",
        "# regressor.add(Dense(units=1))\n",
        "\n",
        "LSTM_model.summary()\n"
      ]
    },
    {
      "cell_type": "code",
      "execution_count": null,
      "metadata": {
        "colab": {
          "base_uri": "https://localhost:8080/"
        },
        "id": "Yc9kKE0iXtn0",
        "outputId": "996b91e3-28b2-4a71-e923-6baacdb2de6d"
      },
      "outputs": [
        {
          "name": "stdout",
          "output_type": "stream",
          "text": [
            "time: 1.33 ms (started: 2022-10-11 19:05:06 +00:00)\n"
          ]
        }
      ],
      "source": [
        "from tensorflow.keras.callbacks import ModelCheckpoint, EarlyStopping\n",
        "\n",
        "LSTM_path = 'LSTM_best_model.hdf5'\n",
        "LSTM_path = selected_stock + \"_\" + LSTM_path\n",
        "\n",
        "\n",
        "LSTM_checkpoint = ModelCheckpoint(filepath=LSTM_path, \n",
        "                             monitor='val_loss',\n",
        "                             verbose=1, \n",
        "                              save_best_only=True,\n",
        "                             mode='min')\n",
        "\n",
        "LSTM_earlystopping = EarlyStopping(monitor='val_loss', patience=20, restore_best_weights=True)\n",
        "\n",
        "LSTM_callbacks = [LSTM_checkpoint, LSTM_earlystopping]"
      ]
    },
    {
      "cell_type": "code",
      "execution_count": null,
      "metadata": {
        "colab": {
          "base_uri": "https://localhost:8080/",
          "height": 235
        },
        "id": "I-Bw24rQ6AV0",
        "outputId": "e053775c-845b-4074-f963-aef2ca21d4de"
      },
      "outputs": [],
      "source": [
        "LSTM_model.compile(optimizer = 'adam', loss = 'mean_squared_error')\n",
        "\n",
        "\n",
        "%load_ext autotime\n",
        "LSTM_history = LSTM_model.fit(trainX,\n",
        "                              trainY, \n",
        "                              batch_size = 8,\n",
        "                              epochs = 200, \n",
        "                              verbose=1,\n",
        "                              shuffle=False, \n",
        "                              validation_data=(validationX, validationY), \n",
        "                              callbacks=LSTM_callbacks)"
      ]
    },
    {
      "cell_type": "code",
      "execution_count": null,
      "metadata": {
        "id": "0rHF-vj8g2Y8"
      },
      "outputs": [],
      "source": [
        "x = selected_stock + \"_\" + LSTM_path\n",
        "LSTM_path"
      ]
    },
    {
      "cell_type": "code",
      "execution_count": null,
      "metadata": {
        "id": "YCkrQCxO6AV1"
      },
      "outputs": [],
      "source": [
        "# from tensorflow.keras.models import load_model\n",
        "\n",
        "# loaded_LSTM = load_model(LSTM_path)"
      ]
    },
    {
      "cell_type": "code",
      "execution_count": null,
      "metadata": {
        "id": "mWRhp1sRQo37"
      },
      "outputs": [],
      "source": [
        "# import shutil\n",
        "# shutil.copy(LSTM_path,'/content/drive/My Drive')"
      ]
    },
    {
      "cell_type": "code",
      "execution_count": null,
      "metadata": {
        "id": "BtOwaG9O6AV1"
      },
      "outputs": [],
      "source": [
        "plt.figure(figsize=(16,7))\n",
        "plt.plot(LSTM_history.history['loss'], label='train')\n",
        "\n",
        "plt.plot(LSTM_history.history['val_loss'], label='validation')\n",
        "plt.legend()\n",
        "plt.show()"
      ]
    },
    {
      "cell_type": "code",
      "execution_count": null,
      "metadata": {
        "id": "KJun6i8qllpg"
      },
      "outputs": [],
      "source": [
        "# LSTM_model = loaded_LSTM\n",
        "\n",
        "LSTM_predicted_val = LSTM_model.predict(validationX)\n",
        "LSTM_predicted_val = scaler_validation.inverse_transform(LSTM_predicted_val.reshape(-1, 1))\n",
        "LSTM_predicted_test = LSTM_model.predict(testX)\n",
        "LSTM_predicted_test = scaler_test.inverse_transform(LSTM_predicted_test.reshape(-1, 1))\n",
        "LSTM_predicted_train = LSTM_model.predict(trainX)\n",
        "LSTM_predicted_train = scaler_train.inverse_transform(LSTM_predicted_train.reshape(-1, 1))\n",
        "\n",
        "train_actual = scaler_train.inverse_transform(trainY.reshape(-1, 1))\n",
        "test_actual = scaler_test.inverse_transform(testY.reshape(-1, 1))\n",
        "validation_actual = scaler_validation.inverse_transform(validationY.reshape(-1, 1))\n",
        "\n",
        "\n",
        "rmse_lstm_train = math.sqrt(mean_squared_error(train_actual, LSTM_predicted_train))\n",
        "mape_lstm_train = mean_absolute_percentage_error(train_actual, LSTM_predicted_train)\n",
        "\n",
        "print('LSTM_train RMSE: %.3f' % rmse_lstm_train)\n",
        "print('LSTM_train MAPE: %.3f' % mape_lstm_train)\n",
        "\n",
        "rmse_lstm_test = math.sqrt(mean_squared_error(validation_actual, LSTM_predicted_val))\n",
        "mape_lstm_test = mean_absolute_percentage_error(validation_actual, LSTM_predicted_val)\n",
        "\n",
        "print('LSTM_val RMSE: %.3f' % rmse_lstm_test)\n",
        "print('LSTM_val MAPE: %.3f' % mape_lstm_test)\n",
        "\n",
        "rmse_lstm_test = math.sqrt(mean_squared_error(test_actual, LSTM_predicted_test))\n",
        "mape_lstm_test = mean_absolute_percentage_error(test_actual, LSTM_predicted_test)\n",
        "\n",
        "print('LSTM_test RMSE: %.3f' % rmse_lstm_test)\n",
        "print('LSTM_test MAPE: %.3f' % mape_lstm_test)\n",
        "\n",
        "\n",
        "plt.figure(figsize=(16,7))\n",
        "\n",
        "plt.plot(LSTM_predicted_test, 'r', marker='.', label='Predicted Test')\n",
        "\n",
        "plt.plot(test_actual, marker='.', label='Actual Test')\n",
        "\n",
        "plt.legend()\n",
        "plt.show()"
      ]
    },
    {
      "cell_type": "code",
      "execution_count": null,
      "metadata": {
        "id": "MB92pvIfle3m"
      },
      "outputs": [],
      "source": [
        "# predicted_btc_price_train_data = LSTM_model.predict(trainX)\n",
        "\n",
        "# predicted_btc_price_train_data = scaler_train.inverse_transform(predicted_btc_price_train_data.reshape(-1, 1))\n",
        "\n",
        "# train_actual = scaler_train.inverse_transform(trainY.reshape(-1, 1))\n",
        "\n",
        "# plt.figure(figsize=(16,7))\n",
        "\n",
        "# plt.plot(predicted_btc_price_train_data, 'r', marker='.', label='Predicted Train')\n",
        "\n",
        "# plt.plot(train_actual, marker='.', label='Actual Train')\n",
        "\n",
        "# plt.legend()\n",
        "# plt.show()\n",
        "\n",
        "# rmse_lstm_train = math.sqrt(mean_squared_error(train_actual, predicted_btc_price_train_data))\n",
        "# mape_lstm_train = mean_absolute_percentage_error(train_actual, predicted_btc_price_train_data)\n",
        "\n",
        "# print('Train RMSE: %.3f' % rmse_lstm_train)\n",
        "# print('Train MAPE: %.3f' % mape_lstm_train)"
      ]
    },
    {
      "cell_type": "code",
      "execution_count": null,
      "metadata": {
        "id": "t07ej0WXnCAY"
      },
      "outputs": [],
      "source": [
        "# create a model\n",
        "from keras.models import Sequential\n",
        "from keras.layers import Dense, SimpleRNN, GRU\n",
        "from keras.layers import Dropout, LeakyReLU\n",
        "\n",
        "\n",
        "# The GRU architecture\n",
        "GRU_model = Sequential()\n",
        "\n",
        "GRU_model.add(GRU(units=64, return_sequences=False, input_shape = (trainX.shape[1], trainX.shape[2])))\n",
        "# GRU_model.add(GRU(units=50, return_sequences=True, input_shape = (trainX.shape[1], trainX.shape[2])))\n",
        "# GRU_model.add(GRU(units=50, return_sequences=False, input_shape = (trainX.shape[1], trainX.shape[2])))\n",
        "\n",
        "\n",
        "GRU_model.add(Dropout(0.2))\n",
        "GRU_model.add(Dense(units = 1))\n",
        "\n",
        "\n",
        "# First GRU layer with Dropout regularisation\n",
        "# GRU_model.add(GRU(units=256, return_sequences=True, input_shape = (trainX.shape[1], trainX.shape[2])))\n",
        "# GRU_model.add(Dropout(0.2))\n",
        "# GRU_model.add(GRU(units=64, input_shape = (trainX.shape[1], trainX.shape[2])))\n",
        "#-----------------------------------\n",
        "\n",
        "\n",
        "# GRU_model.add(GRU(units=18, return_sequences=True, input_shape = (trainX.shape[1], trainX.shape[2])))\n",
        "# GRU_model.add(Dropout(0.1))\n",
        "# GRU_model.add(GRU(units=18, return_sequences=True, input_shape = (trainX.shape[1], trainX.shape[2])))\n",
        "# GRU_model.add(LSTM(units=9, input_shape = (trainX.shape[1], trainX.shape[2])))\n",
        "\n",
        "\n",
        "# GRU_model.add(Dropout(0.2))\n",
        "#--------\n",
        "\n",
        "# Second GRU layer\n",
        "# GRU_model.add(GRU(units=50, return_sequences=True))\n",
        "# GRU_model.add(Dropout(0.2))\n",
        "\n",
        "# Third GRU layer\n",
        "# GRU_model.add(GRU(units=50, return_sequences=True, activation='tanh'))\n",
        "# GRU_model.add(Dropout(0.2))\n",
        "# Fourth GRU layer\n",
        "# GRU_model.add(GRU(units=50))\n",
        "# GRU_model.add(Dropout(0.1))\n",
        "# The output layer\n",
        "# GRU_model.add(Dense(units=1))\n",
        "# # Compiling the RNN\n",
        "# my_GRU_model.compile(optimizer=SGD(lr=0.01, decay=1e-7, momentum=0.9, nesterov=False),loss='mean_squared_error')\n",
        "# # Fitting to the training set\n",
        "# my_GRU_model.fit(X_train,y_train,epochs=50,batch_size=150, verbose=0)\n",
        "\n",
        "# GRU_predictions = my_GRU_model.predict(X_test)\n",
        "# GRU_predictions = sc.inverse_transform(GRU_predictions)\n",
        "\n",
        "# return my_GRU_model, GRU_predictions\n",
        "# my_GRU_model, GRU_predictions = GRU_model_regularization(X_train, y_train, X_test, sc)\n",
        "# GRU_predictions[1:10]\n",
        "# actual_pred_plot(GRU_prediction)  \n",
        "GRU_model.summary()"
      ]
    },
    {
      "cell_type": "code",
      "execution_count": null,
      "metadata": {
        "id": "YBBPbBUJ3eWK"
      },
      "outputs": [],
      "source": [
        "from tensorflow.keras.callbacks import ModelCheckpoint, EarlyStopping\n",
        "\n",
        "GRU_path = 'GRU_best_model.hdf5'\n",
        "\n",
        "GRU_checkpoint = ModelCheckpoint(filepath=GRU_path, \n",
        "                             monitor='val_loss',\n",
        "                             verbose=1, \n",
        "                             save_best_only=True,\n",
        "                             mode='min')\n",
        "\n",
        "GRU_earlystopping = EarlyStopping(monitor='val_loss', patience=20, restore_best_weights=True)\n",
        "\n",
        "GRU_callbacks = [GRU_checkpoint, GRU_earlystopping]"
      ]
    },
    {
      "cell_type": "code",
      "execution_count": null,
      "metadata": {
        "id": "AgeuOWjdgAE6"
      },
      "outputs": [],
      "source": [
        "GRU_model.compile(optimizer = 'adam', loss = 'mean_squared_error')\n",
        "\n",
        "GRU_history = GRU_model.fit(trainX, trainY, batch_size = 8, epochs = 200, verbose=1, shuffle=False, validation_data=(validationX, validationY), callbacks=GRU_callbacks)"
      ]
    },
    {
      "cell_type": "code",
      "execution_count": null,
      "metadata": {
        "id": "8s1SdlW-39ck"
      },
      "outputs": [],
      "source": [
        "# from tensorflow.keras.models import load_model\n",
        "\n",
        "# loaded_GRU = load_model(GRU_path)"
      ]
    },
    {
      "cell_type": "code",
      "execution_count": null,
      "metadata": {
        "id": "tVkVst-IRiXk"
      },
      "outputs": [],
      "source": [
        "# import shutil\n",
        "# shutil.copy(meta_path,'/content/drive/My Drive/Models')"
      ]
    },
    {
      "cell_type": "code",
      "execution_count": null,
      "metadata": {
        "id": "p0smRaiGhLfw"
      },
      "outputs": [],
      "source": [
        "plt.figure(figsize=(16,7))\n",
        "plt.plot(GRU_history.history['loss'], label='train')\n",
        "\n",
        "plt.plot(GRU_history.history['val_loss'], label='validation')\n",
        "plt.legend()\n",
        "plt.show()"
      ]
    },
    {
      "cell_type": "code",
      "execution_count": null,
      "metadata": {
        "id": "21gk9K55YOzS"
      },
      "outputs": [],
      "source": [
        "# GRU_model = loaded_GRU\n",
        "\n",
        "GRU_predicted_val = GRU_model.predict(validationX)\n",
        "GRU_predicted_val = scaler_validation.inverse_transform(GRU_predicted_val.reshape(-1, 1))\n",
        "GRU_predicted_test = GRU_model.predict(testX)\n",
        "GRU_predicted_test = scaler_test.inverse_transform(GRU_predicted_test.reshape(-1, 1))\n",
        "GRU_predicted_train = GRU_model.predict(trainX)\n",
        "GRU_predicted_train = scaler_train.inverse_transform(GRU_predicted_train.reshape(-1, 1))\n",
        "\n",
        "train_actual = scaler_train.inverse_transform(trainY.reshape(-1, 1))\n",
        "test_actual = scaler_test.inverse_transform(testY.reshape(-1, 1))\n",
        "validation_actual = scaler_validation.inverse_transform(validationY.reshape(-1, 1))\n",
        "\n",
        "\n",
        "rmse_GRU_train = math.sqrt(mean_squared_error(train_actual, GRU_predicted_train))\n",
        "mape_GRU_train = mean_absolute_percentage_error(train_actual, GRU_predicted_train)\n",
        "\n",
        "print('GRU_train RMSE: %.3f' % rmse_GRU_train)\n",
        "print('GRU_train MAPE: %.3f' % mape_GRU_train)\n",
        "\n",
        "rmse_GRU_test = math.sqrt(mean_squared_error(validation_actual, GRU_predicted_val))\n",
        "mape_GRU_test = mean_absolute_percentage_error(validation_actual, GRU_predicted_val)\n",
        "\n",
        "print('GRU_val RMSE: %.3f' % rmse_GRU_test)\n",
        "print('GRU_val MAPE: %.3f' % mape_GRU_test)\n",
        "\n",
        "rmse_GRU_test = math.sqrt(mean_squared_error(test_actual, GRU_predicted_test))\n",
        "mape_GRU_test = mean_absolute_percentage_error(test_actual, GRU_predicted_test)\n",
        "\n",
        "print('GRU_test RMSE: %.3f' % rmse_GRU_test)\n",
        "print('GRU_test MAPE: %.3f' % mape_GRU_test)\n",
        "\n",
        "\n",
        "plt.figure(figsize=(16,7))\n",
        "\n",
        "plt.plot(GRU_predicted_test, 'r', marker='.', label='Predicted Test')\n",
        "\n",
        "plt.plot(test_actual, marker='.', label='Actual Test')\n",
        "\n",
        "plt.legend()\n",
        "plt.show()"
      ]
    },
    {
      "cell_type": "code",
      "execution_count": null,
      "metadata": {
        "colab": {
          "base_uri": "https://localhost:8080/"
        },
        "id": "XbSOKW6J6AV1",
        "outputId": "996dc3d1-c535-4f86-ae4a-926180bbcf43"
      },
      "outputs": [
        {
          "name": "stdout",
          "output_type": "stream",
          "text": [
            "time: 578 µs (started: 2022-10-11 19:11:30 +00:00)\n"
          ]
        }
      ],
      "source": [
        "# Transformation to original form and making the predictions\n",
        "\n",
        "# predicted_btc_price_test_data = regressor.predict(testX)\n",
        "# LSTM_predicted_val = LSTM_model.predict(validationX)\n",
        "# GRU_predicted_val = GRU_model.predict(validationX)\n",
        "\n",
        "# LSTM_predicted_val = scaler_validation.inverse_transform(LSTM_predicted_val.reshape(-1, 1))\n",
        "# GRU_predicted_val = scaler_validation.inverse_transform(GRU_predicted_val.reshape(-1, 1))\n",
        "\n",
        "# LSTM_predicted_test = LSTM_model.predict(testX)\n",
        "# GRU_predicted_test = GRU_model.predict(testX)\n",
        "\n",
        "# LSTM_predicted_test = scaler_test.inverse_transform(LSTM_predicted_test.reshape(-1, 1))\n",
        "# GRU_predicted_test = scaler_test.inverse_transform(GRU_predicted_test.reshape(-1, 1))\n",
        "\n",
        "# test_actual = scaler_test.inverse_transform(testY.reshape(-1, 1))\n",
        "# validation_actual = scaler_validation.inverse_transform(validationY.reshape(-1, 1))"
      ]
    },
    {
      "cell_type": "code",
      "execution_count": null,
      "metadata": {
        "colab": {
          "base_uri": "https://localhost:8080/"
        },
        "id": "-jSL8jzqlx9w",
        "outputId": "fecc27ea-9930-475c-b18d-78a9c92dfcf2"
      },
      "outputs": [
        {
          "name": "stdout",
          "output_type": "stream",
          "text": [
            "LSTM_val RMSE: 0.002\n",
            "LSTM_val MAPE: 0.002\n",
            "GRU_val RMSE: 0.002\n",
            "GRU_val MAPE: 0.002\n",
            "LSTM_test RMSE: 0.022\n",
            "LSTM_test MAPE: 0.048\n",
            "GRU_test RMSE: 0.019\n",
            "GRU_test MAPE: 0.034\n",
            "time: 6.64 ms (started: 2022-10-11 19:11:30 +00:00)\n"
          ]
        }
      ],
      "source": [
        "rmse_lstm_test = math.sqrt(mean_squared_error(validation_actual, LSTM_predicted_val))\n",
        "mape_lstm_test = mean_absolute_percentage_error(validation_actual, LSTM_predicted_val)\n",
        "\n",
        "print('LSTM_val RMSE: %.3f' % rmse_lstm_test)\n",
        "print('LSTM_val MAPE: %.3f' % mape_lstm_test)\n",
        "\n",
        "rmse_lstm_test = math.sqrt(mean_squared_error(validation_actual, GRU_predicted_val))\n",
        "mape_lstm_test = mean_absolute_percentage_error(validation_actual, GRU_predicted_val)\n",
        "\n",
        "print('GRU_val RMSE: %.3f' % rmse_lstm_test)\n",
        "print('GRU_val MAPE: %.3f' % mape_lstm_test)\n",
        "\n",
        "\n",
        "\n",
        "rmse_lstm_test = math.sqrt(mean_squared_error(test_actual, LSTM_predicted_test))\n",
        "mape_lstm_test = mean_absolute_percentage_error(test_actual, LSTM_predicted_test)\n",
        "\n",
        "print('LSTM_test RMSE: %.3f' % rmse_lstm_test)\n",
        "print('LSTM_test MAPE: %.3f' % mape_lstm_test)\n",
        "\n",
        "rmse_lstm_test = math.sqrt(mean_squared_error(test_actual, GRU_predicted_test))\n",
        "mape_lstm_test = mean_absolute_percentage_error(test_actual, GRU_predicted_test)\n",
        "\n",
        "print('GRU_test RMSE: %.3f' % rmse_lstm_test)\n",
        "print('GRU_test MAPE: %.3f' % mape_lstm_test)"
      ]
    },
    {
      "attachments": {},
      "cell_type": "markdown",
      "metadata": {},
      "source": [
        "# Stacking LSTM and GRU model by training a meta model"
      ]
    },
    {
      "cell_type": "code",
      "execution_count": null,
      "metadata": {
        "colab": {
          "base_uri": "https://localhost:8080/"
        },
        "id": "7yQmUr7dd-Sy",
        "outputId": "1b4f889b-4145-4483-8fd5-39d1c7e61156"
      },
      "outputs": [
        {
          "name": "stdout",
          "output_type": "stream",
          "text": [
            "Model: \"sequential_5\"\n",
            "_________________________________________________________________\n",
            " Layer (type)                Output Shape              Param #   \n",
            "=================================================================\n",
            " flatten_2 (Flatten)         (None, 2)                 0         \n",
            "                                                                 \n",
            " dense_9 (Dense)             (None, 16)                48        \n",
            "                                                                 \n",
            " dense_10 (Dense)            (None, 8)                 136       \n",
            "                                                                 \n",
            " dense_11 (Dense)            (None, 1)                 9         \n",
            "                                                                 \n",
            "=================================================================\n",
            "Total params: 193\n",
            "Trainable params: 193\n",
            "Non-trainable params: 0\n",
            "_________________________________________________________________\n",
            "time: 63.2 ms (started: 2022-10-11 19:11:30 +00:00)\n"
          ]
        }
      ],
      "source": [
        "# Generate generic sequential model.\n",
        "from tensorflow.keras import activations\n",
        "\n",
        "meta_model = Sequential()\n",
        "\n",
        "# Desired activation function.\n",
        "activ_func = LeakyReLU()\n",
        "\n",
        "# Set input layer and size.\n",
        "meta_model.add(Flatten(input_shape=(2,)))\n",
        "\n",
        "# Hidden Layer 1\n",
        "meta_model.add(Dense(16, activation = activ_func))\n",
        "\n",
        "# Hidden Layer 2\n",
        "meta_model.add(Dense(8, activation = activ_func))\n",
        "\n",
        "# Output Layer\n",
        "meta_model.add(Dense(1))\n",
        "\n",
        "meta_model.summary()\n",
        "\n",
        "\n",
        "# # Hidden Layer 3\n",
        "# meta_model.add(Dense(2, activation = activ_func))"
      ]
    },
    {
      "cell_type": "code",
      "execution_count": null,
      "metadata": {
        "colab": {
          "base_uri": "https://localhost:8080/"
        },
        "id": "eYDGCPQGeAfs",
        "outputId": "770ba59e-0e29-4d6b-aec3-22fbc6563f2b"
      },
      "outputs": [
        {
          "name": "stdout",
          "output_type": "stream",
          "text": [
            "time: 2.13 ms (started: 2022-10-11 19:11:30 +00:00)\n"
          ]
        }
      ],
      "source": [
        "# Normalize X validation data.\n",
        "normalized_x_validation1 = scaler_validation.fit_transform(LSTM_predicted_val)\n",
        "normalized_x_validation2 = scaler_validation.fit_transform(GRU_predicted_val)\n",
        "\n",
        "# Normalize Y validation data.\n",
        "normalized_y_validation = scaler_validation.fit_transform(validation_actual)\n",
        "\n",
        "# Concate training data.\n",
        "level1_train_data = np.concatenate((normalized_x_validation1, normalized_x_validation2), axis=-1)"
      ]
    },
    {
      "cell_type": "code",
      "execution_count": null,
      "metadata": {
        "colab": {
          "base_uri": "https://localhost:8080/"
        },
        "id": "A4KFHAQI7Duf",
        "outputId": "bc388da8-5670-4953-ffb7-0e94ef23a894"
      },
      "outputs": [
        {
          "name": "stdout",
          "output_type": "stream",
          "text": [
            "time: 1.58 ms (started: 2022-10-11 19:11:30 +00:00)\n"
          ]
        }
      ],
      "source": [
        "from tensorflow.keras.callbacks import ModelCheckpoint, EarlyStopping\n",
        "\n",
        "stack_path = 'stack_best_model.hdf5'\n",
        "\n",
        "stack_checkpoint = ModelCheckpoint(filepath=stack_path, \n",
        "                             monitor='val_loss',\n",
        "                             verbose=1, \n",
        "                             save_best_only=True,\n",
        "                             mode='min')\n",
        "\n",
        "stack_earlystopping = EarlyStopping(monitor='val_loss', patience=20, restore_best_weights=True)\n",
        "\n",
        "stack_callbacks = [stack_checkpoint, stack_earlystopping]"
      ]
    },
    {
      "cell_type": "code",
      "execution_count": null,
      "metadata": {
        "colab": {
          "base_uri": "https://localhost:8080/"
        },
        "id": "EZvXyR4MeZhx",
        "outputId": "ca0c1512-4c7c-4d12-8221-658aa7b5dcdc"
      },
      "outputs": [
        {
          "name": "stdout",
          "output_type": "stream",
          "text": [
            "Epoch 1/200\n",
            "9/9 [==============================] - 0s 3ms/step - loss: 0.3869\n",
            "Epoch 2/200\n",
            "9/9 [==============================] - 0s 3ms/step - loss: 0.3152\n",
            "Epoch 3/200\n",
            "9/9 [==============================] - 0s 3ms/step - loss: 0.2512\n",
            "Epoch 4/200\n",
            "9/9 [==============================] - 0s 3ms/step - loss: 0.1771\n",
            "Epoch 5/200\n",
            "9/9 [==============================] - 0s 3ms/step - loss: 0.1092\n",
            "Epoch 6/200\n",
            "9/9 [==============================] - 0s 4ms/step - loss: 0.0664\n",
            "Epoch 7/200\n",
            "9/9 [==============================] - 0s 3ms/step - loss: 0.0456\n",
            "Epoch 8/200\n",
            "9/9 [==============================] - 0s 3ms/step - loss: 0.0428\n",
            "Epoch 9/200\n",
            "9/9 [==============================] - 0s 2ms/step - loss: 0.0429\n",
            "Epoch 10/200\n",
            "9/9 [==============================] - 0s 3ms/step - loss: 0.0419\n",
            "Epoch 11/200\n",
            "9/9 [==============================] - 0s 3ms/step - loss: 0.0406\n",
            "Epoch 12/200\n",
            "9/9 [==============================] - 0s 2ms/step - loss: 0.0395\n",
            "Epoch 13/200\n",
            "9/9 [==============================] - 0s 3ms/step - loss: 0.0388\n",
            "Epoch 14/200\n",
            "9/9 [==============================] - 0s 3ms/step - loss: 0.0380\n",
            "Epoch 15/200\n",
            "9/9 [==============================] - 0s 3ms/step - loss: 0.0372\n",
            "Epoch 16/200\n",
            "9/9 [==============================] - 0s 3ms/step - loss: 0.0368\n",
            "Epoch 17/200\n",
            "9/9 [==============================] - 0s 3ms/step - loss: 0.0360\n",
            "Epoch 18/200\n",
            "9/9 [==============================] - 0s 3ms/step - loss: 0.0353\n",
            "Epoch 19/200\n",
            "9/9 [==============================] - 0s 3ms/step - loss: 0.0349\n",
            "Epoch 20/200\n",
            "9/9 [==============================] - 0s 3ms/step - loss: 0.0343\n",
            "Epoch 21/200\n",
            "9/9 [==============================] - 0s 2ms/step - loss: 0.0338\n",
            "Epoch 22/200\n",
            "9/9 [==============================] - 0s 2ms/step - loss: 0.0335\n",
            "Epoch 23/200\n",
            "9/9 [==============================] - 0s 3ms/step - loss: 0.0331\n",
            "Epoch 24/200\n",
            "9/9 [==============================] - 0s 3ms/step - loss: 0.0326\n",
            "Epoch 25/200\n",
            "9/9 [==============================] - 0s 3ms/step - loss: 0.0322\n",
            "Epoch 26/200\n",
            "9/9 [==============================] - 0s 3ms/step - loss: 0.0319\n",
            "Epoch 27/200\n",
            "9/9 [==============================] - 0s 3ms/step - loss: 0.0315\n",
            "Epoch 28/200\n",
            "9/9 [==============================] - 0s 3ms/step - loss: 0.0311\n",
            "Epoch 29/200\n",
            "9/9 [==============================] - 0s 2ms/step - loss: 0.0308\n",
            "Epoch 30/200\n",
            "9/9 [==============================] - 0s 3ms/step - loss: 0.0306\n",
            "Epoch 31/200\n",
            "9/9 [==============================] - 0s 3ms/step - loss: 0.0304\n",
            "Epoch 32/200\n",
            "9/9 [==============================] - 0s 3ms/step - loss: 0.0303\n",
            "Epoch 33/200\n",
            "9/9 [==============================] - 0s 3ms/step - loss: 0.0301\n",
            "Epoch 34/200\n",
            "9/9 [==============================] - 0s 3ms/step - loss: 0.0299\n",
            "Epoch 35/200\n",
            "9/9 [==============================] - 0s 3ms/step - loss: 0.0298\n",
            "Epoch 36/200\n",
            "9/9 [==============================] - 0s 3ms/step - loss: 0.0296\n",
            "Epoch 37/200\n",
            "9/9 [==============================] - 0s 3ms/step - loss: 0.0299\n",
            "Epoch 38/200\n",
            "9/9 [==============================] - 0s 3ms/step - loss: 0.0295\n",
            "Epoch 39/200\n",
            "9/9 [==============================] - 0s 3ms/step - loss: 0.0293\n",
            "Epoch 40/200\n",
            "9/9 [==============================] - 0s 3ms/step - loss: 0.0292\n",
            "Epoch 41/200\n",
            "9/9 [==============================] - 0s 3ms/step - loss: 0.0292\n",
            "Epoch 42/200\n",
            "9/9 [==============================] - 0s 3ms/step - loss: 0.0290\n",
            "Epoch 43/200\n",
            "9/9 [==============================] - 0s 3ms/step - loss: 0.0292\n",
            "Epoch 44/200\n",
            "9/9 [==============================] - 0s 3ms/step - loss: 0.0290\n",
            "Epoch 45/200\n",
            "9/9 [==============================] - 0s 3ms/step - loss: 0.0289\n",
            "Epoch 46/200\n",
            "9/9 [==============================] - 0s 3ms/step - loss: 0.0290\n",
            "Epoch 47/200\n",
            "9/9 [==============================] - 0s 3ms/step - loss: 0.0288\n",
            "Epoch 48/200\n",
            "9/9 [==============================] - 0s 3ms/step - loss: 0.0288\n",
            "Epoch 49/200\n",
            "9/9 [==============================] - 0s 2ms/step - loss: 0.0288\n",
            "Epoch 50/200\n",
            "9/9 [==============================] - 0s 3ms/step - loss: 0.0287\n",
            "Epoch 51/200\n",
            "9/9 [==============================] - 0s 3ms/step - loss: 0.0288\n",
            "Epoch 52/200\n",
            "9/9 [==============================] - 0s 4ms/step - loss: 0.0287\n",
            "Epoch 53/200\n",
            "9/9 [==============================] - 0s 3ms/step - loss: 0.0289\n",
            "Epoch 54/200\n",
            "9/9 [==============================] - 0s 3ms/step - loss: 0.0287\n",
            "Epoch 55/200\n",
            "9/9 [==============================] - 0s 2ms/step - loss: 0.0287\n",
            "Epoch 56/200\n",
            "9/9 [==============================] - 0s 3ms/step - loss: 0.0287\n",
            "Epoch 57/200\n",
            "9/9 [==============================] - 0s 3ms/step - loss: 0.0287\n",
            "Epoch 58/200\n",
            "9/9 [==============================] - 0s 3ms/step - loss: 0.0286\n",
            "Epoch 59/200\n",
            "9/9 [==============================] - 0s 3ms/step - loss: 0.0286\n",
            "Epoch 60/200\n",
            "9/9 [==============================] - 0s 3ms/step - loss: 0.0285\n",
            "Epoch 61/200\n",
            "9/9 [==============================] - 0s 3ms/step - loss: 0.0285\n",
            "Epoch 62/200\n",
            "9/9 [==============================] - 0s 3ms/step - loss: 0.0285\n",
            "Epoch 63/200\n",
            "9/9 [==============================] - 0s 3ms/step - loss: 0.0288\n",
            "Epoch 64/200\n",
            "9/9 [==============================] - 0s 3ms/step - loss: 0.0286\n",
            "Epoch 65/200\n",
            "9/9 [==============================] - 0s 3ms/step - loss: 0.0285\n",
            "Epoch 66/200\n",
            "9/9 [==============================] - 0s 3ms/step - loss: 0.0286\n",
            "Epoch 67/200\n",
            "9/9 [==============================] - 0s 3ms/step - loss: 0.0284\n",
            "Epoch 68/200\n",
            "9/9 [==============================] - 0s 3ms/step - loss: 0.0287\n",
            "Epoch 69/200\n",
            "9/9 [==============================] - 0s 3ms/step - loss: 0.0287\n",
            "Epoch 70/200\n",
            "9/9 [==============================] - 0s 2ms/step - loss: 0.0291\n",
            "Epoch 71/200\n",
            "9/9 [==============================] - 0s 3ms/step - loss: 0.0286\n",
            "Epoch 72/200\n",
            "9/9 [==============================] - 0s 4ms/step - loss: 0.0284\n",
            "Epoch 73/200\n",
            "9/9 [==============================] - 0s 2ms/step - loss: 0.0287\n",
            "Epoch 74/200\n",
            "9/9 [==============================] - 0s 2ms/step - loss: 0.0286\n",
            "Epoch 75/200\n",
            "9/9 [==============================] - 0s 3ms/step - loss: 0.0285\n",
            "Epoch 76/200\n",
            "9/9 [==============================] - 0s 3ms/step - loss: 0.0288\n",
            "Epoch 77/200\n",
            "9/9 [==============================] - 0s 2ms/step - loss: 0.0284\n",
            "Epoch 78/200\n",
            "9/9 [==============================] - 0s 2ms/step - loss: 0.0285\n",
            "Epoch 79/200\n",
            "9/9 [==============================] - 0s 3ms/step - loss: 0.0284\n",
            "Epoch 80/200\n",
            "9/9 [==============================] - 0s 2ms/step - loss: 0.0284\n",
            "Epoch 81/200\n",
            "9/9 [==============================] - 0s 3ms/step - loss: 0.0286\n",
            "Epoch 82/200\n",
            "9/9 [==============================] - 0s 3ms/step - loss: 0.0284\n",
            "Epoch 83/200\n",
            "9/9 [==============================] - 0s 3ms/step - loss: 0.0286\n",
            "Epoch 84/200\n",
            "9/9 [==============================] - 0s 3ms/step - loss: 0.0283\n",
            "Epoch 85/200\n",
            "9/9 [==============================] - 0s 3ms/step - loss: 0.0284\n",
            "Epoch 86/200\n",
            "9/9 [==============================] - 0s 2ms/step - loss: 0.0284\n",
            "Epoch 87/200\n",
            "9/9 [==============================] - 0s 3ms/step - loss: 0.0287\n",
            "Epoch 88/200\n",
            "9/9 [==============================] - 0s 2ms/step - loss: 0.0283\n",
            "Epoch 89/200\n",
            "9/9 [==============================] - 0s 3ms/step - loss: 0.0286\n",
            "Epoch 90/200\n",
            "9/9 [==============================] - 0s 2ms/step - loss: 0.0287\n",
            "Epoch 91/200\n",
            "9/9 [==============================] - 0s 2ms/step - loss: 0.0286\n",
            "Epoch 92/200\n",
            "9/9 [==============================] - 0s 2ms/step - loss: 0.0285\n",
            "Epoch 93/200\n",
            "9/9 [==============================] - 0s 3ms/step - loss: 0.0284\n",
            "Epoch 94/200\n",
            "9/9 [==============================] - 0s 2ms/step - loss: 0.0289\n",
            "Epoch 95/200\n",
            "9/9 [==============================] - 0s 2ms/step - loss: 0.0285\n",
            "Epoch 96/200\n",
            "9/9 [==============================] - 0s 2ms/step - loss: 0.0285\n",
            "Epoch 97/200\n",
            "9/9 [==============================] - 0s 3ms/step - loss: 0.0284\n",
            "Epoch 98/200\n",
            "9/9 [==============================] - 0s 3ms/step - loss: 0.0284\n",
            "Epoch 99/200\n",
            "9/9 [==============================] - 0s 3ms/step - loss: 0.0289\n",
            "Epoch 100/200\n",
            "9/9 [==============================] - 0s 3ms/step - loss: 0.0284\n",
            "Epoch 101/200\n",
            "9/9 [==============================] - 0s 3ms/step - loss: 0.0283\n",
            "Epoch 102/200\n",
            "9/9 [==============================] - 0s 3ms/step - loss: 0.0287\n",
            "Epoch 103/200\n",
            "9/9 [==============================] - 0s 3ms/step - loss: 0.0283\n",
            "Epoch 104/200\n",
            "9/9 [==============================] - 0s 2ms/step - loss: 0.0284\n",
            "Epoch 105/200\n",
            "9/9 [==============================] - 0s 3ms/step - loss: 0.0287\n",
            "Epoch 106/200\n",
            "9/9 [==============================] - 0s 3ms/step - loss: 0.0286\n",
            "Epoch 107/200\n",
            "9/9 [==============================] - 0s 3ms/step - loss: 0.0283\n",
            "Epoch 108/200\n",
            "9/9 [==============================] - 0s 3ms/step - loss: 0.0282\n",
            "Epoch 109/200\n",
            "9/9 [==============================] - 0s 3ms/step - loss: 0.0282\n",
            "Epoch 110/200\n",
            "9/9 [==============================] - 0s 3ms/step - loss: 0.0283\n",
            "Epoch 111/200\n",
            "9/9 [==============================] - 0s 3ms/step - loss: 0.0285\n",
            "Epoch 112/200\n",
            "9/9 [==============================] - 0s 3ms/step - loss: 0.0283\n",
            "Epoch 113/200\n",
            "9/9 [==============================] - 0s 4ms/step - loss: 0.0287\n",
            "Epoch 114/200\n",
            "9/9 [==============================] - 0s 3ms/step - loss: 0.0283\n",
            "Epoch 115/200\n",
            "9/9 [==============================] - 0s 3ms/step - loss: 0.0286\n",
            "Epoch 116/200\n",
            "9/9 [==============================] - 0s 3ms/step - loss: 0.0284\n",
            "Epoch 117/200\n",
            "9/9 [==============================] - 0s 3ms/step - loss: 0.0284\n",
            "Epoch 118/200\n",
            "9/9 [==============================] - 0s 3ms/step - loss: 0.0282\n",
            "Epoch 119/200\n",
            "9/9 [==============================] - 0s 3ms/step - loss: 0.0284\n",
            "Epoch 120/200\n",
            "9/9 [==============================] - 0s 3ms/step - loss: 0.0284\n",
            "Epoch 121/200\n",
            "9/9 [==============================] - 0s 3ms/step - loss: 0.0282\n",
            "Epoch 122/200\n",
            "9/9 [==============================] - 0s 3ms/step - loss: 0.0284\n",
            "Epoch 123/200\n",
            "9/9 [==============================] - 0s 3ms/step - loss: 0.0282\n",
            "Epoch 124/200\n",
            "9/9 [==============================] - 0s 3ms/step - loss: 0.0288\n",
            "Epoch 125/200\n",
            "9/9 [==============================] - 0s 3ms/step - loss: 0.0282\n",
            "Epoch 126/200\n",
            "9/9 [==============================] - 0s 3ms/step - loss: 0.0281\n",
            "Epoch 127/200\n",
            "9/9 [==============================] - 0s 3ms/step - loss: 0.0292\n",
            "Epoch 128/200\n",
            "9/9 [==============================] - 0s 3ms/step - loss: 0.0281\n",
            "Epoch 129/200\n",
            "9/9 [==============================] - 0s 3ms/step - loss: 0.0282\n",
            "Epoch 130/200\n",
            "9/9 [==============================] - 0s 3ms/step - loss: 0.0283\n",
            "Epoch 131/200\n",
            "9/9 [==============================] - 0s 3ms/step - loss: 0.0283\n",
            "Epoch 132/200\n",
            "9/9 [==============================] - 0s 3ms/step - loss: 0.0281\n",
            "Epoch 133/200\n",
            "9/9 [==============================] - 0s 3ms/step - loss: 0.0283\n",
            "Epoch 134/200\n",
            "9/9 [==============================] - 0s 3ms/step - loss: 0.0284\n",
            "Epoch 135/200\n",
            "9/9 [==============================] - 0s 3ms/step - loss: 0.0283\n",
            "Epoch 136/200\n",
            "9/9 [==============================] - 0s 3ms/step - loss: 0.0284\n",
            "Epoch 137/200\n",
            "9/9 [==============================] - 0s 3ms/step - loss: 0.0281\n",
            "Epoch 138/200\n",
            "9/9 [==============================] - 0s 3ms/step - loss: 0.0282\n",
            "Epoch 139/200\n",
            "9/9 [==============================] - 0s 3ms/step - loss: 0.0281\n",
            "Epoch 140/200\n",
            "9/9 [==============================] - 0s 3ms/step - loss: 0.0281\n",
            "Epoch 141/200\n",
            "9/9 [==============================] - 0s 3ms/step - loss: 0.0285\n",
            "Epoch 142/200\n",
            "9/9 [==============================] - 0s 3ms/step - loss: 0.0281\n",
            "Epoch 143/200\n",
            "9/9 [==============================] - 0s 3ms/step - loss: 0.0281\n",
            "Epoch 144/200\n",
            "9/9 [==============================] - 0s 3ms/step - loss: 0.0285\n",
            "Epoch 145/200\n",
            "9/9 [==============================] - 0s 3ms/step - loss: 0.0281\n",
            "Epoch 146/200\n",
            "9/9 [==============================] - 0s 3ms/step - loss: 0.0282\n",
            "Epoch 147/200\n",
            "9/9 [==============================] - 0s 3ms/step - loss: 0.0284\n",
            "Epoch 148/200\n",
            "9/9 [==============================] - 0s 3ms/step - loss: 0.0284\n",
            "Epoch 149/200\n",
            "9/9 [==============================] - 0s 3ms/step - loss: 0.0282\n",
            "Epoch 150/200\n",
            "9/9 [==============================] - 0s 3ms/step - loss: 0.0282\n",
            "Epoch 151/200\n",
            "9/9 [==============================] - 0s 3ms/step - loss: 0.0281\n",
            "Epoch 152/200\n",
            "9/9 [==============================] - 0s 3ms/step - loss: 0.0281\n",
            "Epoch 153/200\n",
            "9/9 [==============================] - 0s 3ms/step - loss: 0.0281\n",
            "Epoch 154/200\n",
            "9/9 [==============================] - 0s 3ms/step - loss: 0.0282\n",
            "Epoch 155/200\n",
            "9/9 [==============================] - 0s 3ms/step - loss: 0.0281\n",
            "Epoch 156/200\n",
            "9/9 [==============================] - 0s 3ms/step - loss: 0.0283\n",
            "Epoch 157/200\n",
            "9/9 [==============================] - 0s 3ms/step - loss: 0.0282\n",
            "Epoch 158/200\n",
            "9/9 [==============================] - 0s 3ms/step - loss: 0.0282\n",
            "Epoch 159/200\n",
            "9/9 [==============================] - 0s 3ms/step - loss: 0.0282\n",
            "Epoch 160/200\n",
            "9/9 [==============================] - 0s 3ms/step - loss: 0.0283\n",
            "Epoch 161/200\n",
            "9/9 [==============================] - 0s 3ms/step - loss: 0.0282\n",
            "Epoch 162/200\n",
            "9/9 [==============================] - 0s 3ms/step - loss: 0.0281\n",
            "Epoch 163/200\n",
            "9/9 [==============================] - 0s 3ms/step - loss: 0.0281\n",
            "Epoch 164/200\n",
            "9/9 [==============================] - 0s 3ms/step - loss: 0.0282\n",
            "Epoch 165/200\n",
            "9/9 [==============================] - 0s 3ms/step - loss: 0.0281\n",
            "Epoch 166/200\n",
            "9/9 [==============================] - 0s 3ms/step - loss: 0.0281\n",
            "Epoch 167/200\n",
            "9/9 [==============================] - 0s 3ms/step - loss: 0.0281\n",
            "Epoch 168/200\n",
            "9/9 [==============================] - 0s 3ms/step - loss: 0.0280\n",
            "Epoch 169/200\n",
            "9/9 [==============================] - 0s 3ms/step - loss: 0.0282\n",
            "Epoch 170/200\n",
            "9/9 [==============================] - 0s 3ms/step - loss: 0.0280\n",
            "Epoch 171/200\n",
            "9/9 [==============================] - 0s 3ms/step - loss: 0.0281\n",
            "Epoch 172/200\n",
            "9/9 [==============================] - 0s 3ms/step - loss: 0.0281\n",
            "Epoch 173/200\n",
            "9/9 [==============================] - 0s 3ms/step - loss: 0.0281\n",
            "Epoch 174/200\n",
            "9/9 [==============================] - 0s 3ms/step - loss: 0.0281\n",
            "Epoch 175/200\n",
            "9/9 [==============================] - 0s 3ms/step - loss: 0.0281\n",
            "Epoch 176/200\n",
            "9/9 [==============================] - 0s 3ms/step - loss: 0.0280\n",
            "Epoch 177/200\n",
            "9/9 [==============================] - 0s 3ms/step - loss: 0.0282\n",
            "Epoch 178/200\n",
            "9/9 [==============================] - 0s 3ms/step - loss: 0.0281\n",
            "Epoch 179/200\n",
            "9/9 [==============================] - 0s 3ms/step - loss: 0.0282\n",
            "Epoch 180/200\n",
            "9/9 [==============================] - 0s 3ms/step - loss: 0.0280\n",
            "Epoch 181/200\n",
            "9/9 [==============================] - 0s 3ms/step - loss: 0.0282\n",
            "Epoch 182/200\n",
            "9/9 [==============================] - 0s 3ms/step - loss: 0.0280\n",
            "Epoch 183/200\n",
            "9/9 [==============================] - 0s 3ms/step - loss: 0.0285\n",
            "Epoch 184/200\n",
            "9/9 [==============================] - 0s 3ms/step - loss: 0.0281\n",
            "Epoch 185/200\n",
            "9/9 [==============================] - 0s 3ms/step - loss: 0.0285\n",
            "Epoch 186/200\n",
            "9/9 [==============================] - 0s 3ms/step - loss: 0.0283\n",
            "Epoch 187/200\n",
            "9/9 [==============================] - 0s 3ms/step - loss: 0.0282\n",
            "Epoch 188/200\n",
            "9/9 [==============================] - 0s 3ms/step - loss: 0.0282\n",
            "Epoch 189/200\n",
            "9/9 [==============================] - 0s 3ms/step - loss: 0.0280\n",
            "Epoch 190/200\n",
            "9/9 [==============================] - 0s 3ms/step - loss: 0.0280\n",
            "Epoch 191/200\n",
            "9/9 [==============================] - 0s 3ms/step - loss: 0.0282\n",
            "Epoch 192/200\n",
            "9/9 [==============================] - 0s 3ms/step - loss: 0.0279\n",
            "Epoch 193/200\n",
            "9/9 [==============================] - 0s 3ms/step - loss: 0.0278\n",
            "Epoch 194/200\n",
            "9/9 [==============================] - 0s 3ms/step - loss: 0.0284\n",
            "Epoch 195/200\n",
            "9/9 [==============================] - 0s 3ms/step - loss: 0.0283\n",
            "Epoch 196/200\n",
            "9/9 [==============================] - 0s 3ms/step - loss: 0.0279\n",
            "Epoch 197/200\n",
            "9/9 [==============================] - 0s 3ms/step - loss: 0.0286\n",
            "Epoch 198/200\n",
            "9/9 [==============================] - 0s 3ms/step - loss: 0.0284\n",
            "Epoch 199/200\n",
            "9/9 [==============================] - 0s 3ms/step - loss: 0.0282\n",
            "Epoch 200/200\n",
            "9/9 [==============================] - 0s 3ms/step - loss: 0.0283\n",
            "time: 10.6 s (started: 2022-10-11 19:11:30 +00:00)\n"
          ]
        }
      ],
      "source": [
        "# Compile model.\n",
        "meta_model.compile(optimizer='adam',loss='mean_squared_error')\n",
        "\n",
        "# Fit model to training data.\n",
        "meta_history = meta_model.fit(level1_train_data, normalized_y_validation, epochs = 200, batch_size = 8)"
      ]
    },
    {
      "cell_type": "code",
      "execution_count": null,
      "metadata": {
        "colab": {
          "base_uri": "https://localhost:8080/"
        },
        "id": "WXQcTsyG-MFe",
        "outputId": "06c24647-e529-439c-9c18-6db836094d68"
      },
      "outputs": [
        {
          "name": "stdout",
          "output_type": "stream",
          "text": [
            "time: 24.7 ms (started: 2022-10-11 19:11:41 +00:00)\n"
          ]
        }
      ],
      "source": [
        "# Save the entire model as a SavedModel.\n",
        "# !mkdir -p saved_model\n",
        "\n",
        "meta_path = 'meta_best_model.hdf5'\n",
        "\n",
        "meta_model.save(meta_path)"
      ]
    },
    {
      "cell_type": "code",
      "execution_count": null,
      "metadata": {
        "colab": {
          "base_uri": "https://localhost:8080/"
        },
        "id": "W4Ocr9Mh-e9i",
        "outputId": "11df5ee4-6388-42b5-83c0-ec2f2820c513"
      },
      "outputs": [
        {
          "name": "stdout",
          "output_type": "stream",
          "text": [
            "time: 399 ms (started: 2022-10-11 19:11:41 +00:00)\n"
          ]
        }
      ],
      "source": [
        "from tensorflow.keras.models import load_model\n",
        "\n",
        "loaded_stack = load_model(meta_path)"
      ]
    },
    {
      "cell_type": "code",
      "execution_count": null,
      "metadata": {
        "colab": {
          "base_uri": "https://localhost:8080/"
        },
        "id": "Rt3dIaOa-X6X",
        "outputId": "bc34d7d7-f4cd-457f-8ea6-7139966fc354"
      },
      "outputs": [
        {
          "name": "stdout",
          "output_type": "stream",
          "text": [
            "time: 1.17 ms (started: 2022-10-11 19:11:41 +00:00)\n"
          ]
        }
      ],
      "source": [
        "dff_output_model = loaded_stack"
      ]
    },
    {
      "cell_type": "code",
      "execution_count": null,
      "metadata": {
        "colab": {
          "base_uri": "https://localhost:8080/"
        },
        "id": "i0W-XYkL5YtH",
        "outputId": "fed15a12-0b8d-457c-b9fd-275d8cd8a33a"
      },
      "outputs": [
        {
          "data": {
            "image/png": "[encoded data removed]",
            "text/plain": [
              "<Figure size 1152x504 with 1 Axes>"
            ]
          },
          "metadata": {},
          "output_type": "display_data"
        },
        {
          "name": "stdout",
          "output_type": "stream",
          "text": [
            "time: 176 ms (started: 2022-10-11 19:11:41 +00:00)\n"
          ]
        }
      ],
      "source": [
        "plt.figure(figsize=(16,7))\n",
        "plt.plot(meta_history.history['loss'], label='train')\n",
        "\n",
        "# plt.plot(meta_history.history['val_loss'], label='test')\n",
        "plt.legend()\n",
        "plt.show()"
      ]
    },
    {
      "cell_type": "code",
      "execution_count": null,
      "metadata": {
        "colab": {
          "base_uri": "https://localhost:8080/"
        },
        "id": "NozSZIcaetQs",
        "outputId": "bdbffc85-c445-401c-e55d-7fa8d3d452d3"
      },
      "outputs": [
        {
          "name": "stdout",
          "output_type": "stream",
          "text": [
            "time: 2.01 ms (started: 2022-10-11 19:11:42 +00:00)\n"
          ]
        }
      ],
      "source": [
        "# Normalize test data.\n",
        "scaler = MinMaxScaler(feature_range=(0, 1))\n",
        "\n",
        "normalized_x_test1 = scaler.fit_transform(LSTM_predicted_test)\n",
        "normalized_x_test2 = scaler.fit_transform(GRU_predicted_test)\n",
        "\n",
        "# Concatanate the test data.\n",
        "level1_test_data = np.concatenate((normalized_x_test1, normalized_x_test2), axis=-1)"
      ]
    },
    {
      "cell_type": "code",
      "execution_count": null,
      "metadata": {
        "colab": {
          "base_uri": "https://localhost:8080/"
        },
        "id": "Dck9bDehftMM",
        "outputId": "d4778a95-7f21-4bb0-f3f0-a63cf2875ebe"
      },
      "outputs": [
        {
          "name": "stdout",
          "output_type": "stream",
          "text": [
            "time: 96.1 ms (started: 2022-10-11 19:11:42 +00:00)\n"
          ]
        }
      ],
      "source": [
        "Xt3 = dff_output_model.predict(level1_test_data)\n",
        "predicted_test = scaler.inverse_transform(Xt3)"
      ]
    },
    {
      "cell_type": "code",
      "execution_count": null,
      "metadata": {
        "colab": {
          "base_uri": "https://localhost:8080/"
        },
        "id": "cFKJciechrSW",
        "outputId": "747f775c-a729-4c79-f45c-9c8e9b30b4a9"
      },
      "outputs": [
        {
          "data": {
            "image/png": "[encoded data removed]",
            "text/plain": [
              "<Figure size 1152x504 with 1 Axes>"
            ]
          },
          "metadata": {},
          "output_type": "display_data"
        },
        {
          "name": "stdout",
          "output_type": "stream",
          "text": [
            "Test RMSE: 0.023\n",
            "Test MAPE: 0.048\n",
            "time: 177 ms (started: 2022-10-11 19:11:42 +00:00)\n"
          ]
        }
      ],
      "source": [
        "plt.figure(figsize=(16,7))\n",
        "\n",
        "plt.plot(predicted_test, 'r', marker='.', label='Predicted Test')\n",
        "\n",
        "plt.plot(test_actual, marker='.', label='Actual Test')\n",
        "\n",
        "plt.legend()\n",
        "plt.show()\n",
        "\n",
        "rmse_lstm_test = math.sqrt(mean_squared_error(test_actual, predicted_test))\n",
        "mape_lstm_test = mean_absolute_percentage_error(test_actual, predicted_test)\n",
        "\n",
        "print('Test RMSE: %.3f' % rmse_lstm_test)\n",
        "print('Test MAPE: %.3f' % mape_lstm_test)"
      ]
    },
    {
      "attachments": {},
      "cell_type": "markdown",
      "metadata": {
        "id": "htATmkMe6AV2"
      },
      "source": [
        "# LSTM Prediction using trainX and plotting line graph against Actual trainY"
      ]
    },
    {
      "cell_type": "code",
      "execution_count": null,
      "metadata": {
        "colab": {
          "base_uri": "https://localhost:8080/",
          "height": 252
        },
        "id": "-R6tNVzo6AV2",
        "outputId": "ab136044-9c21-4977-b9a4-5238c9c2bfc5"
      },
      "outputs": [],
      "source": [
        "# Transformation to original form and making the predictions\n",
        "\n",
        "predicted_btc_price_train_data = model_from_saved_checkpoint.predict(trainX)\n",
        "\n",
        "predicted_btc_price_train_data = scaler_train.inverse_transform(predicted_btc_price_train_data.reshape(-1, 1))\n",
        "\n",
        "train_actual = scaler_train.inverse_transform(trainY.reshape(-1, 1))"
      ]
    },
    {
      "cell_type": "code",
      "execution_count": null,
      "metadata": {
        "id": "zB9FH--w6AV2"
      },
      "outputs": [],
      "source": [
        "plt.figure(figsize=(16,7))\n",
        "\n",
        "plt.plot(predicted_btc_price_train_data, 'r', marker='.', label='Predicted Train')\n",
        "\n",
        "plt.plot(train_actual, marker='.', label='Actual Train')\n",
        "\n",
        "plt.legend()\n",
        "plt.show()"
      ]
    },
    {
      "attachments": {},
      "cell_type": "markdown",
      "metadata": {
        "id": "ioNkYGuT6AV2"
      },
      "source": [
        "# RMSE - Test Data"
      ]
    },
    {
      "cell_type": "code",
      "execution_count": null,
      "metadata": {
        "id": "5_gD6WdA6AV2"
      },
      "outputs": [],
      "source": [
        "rmse_lstm_test = math.sqrt(mean_squared_error(test_actual, predicted_btc_price_test_data))\n",
        "mape_lstm_test = mean_absolute_percentage_error(test_actual, predicted_btc_price_test_data)\n",
        "\n",
        "print('Test RMSE: %.3f' % rmse_lstm_test)\n",
        "print('Test MAPE: %.3f' % mape_lstm_test)\n",
        "\n",
        "rmse_lstm_train = math.sqrt(mean_squared_error(train_actual, predicted_btc_price_train_data))\n",
        "mape_lstm_train = mean_absolute_percentage_error(train_actual, predicted_btc_price_train_data)\n",
        "\n",
        "print('Train RMSE: %.3f' % rmse_lstm_train)\n",
        "print('Train MAPE: %.3f' % mape_lstm_train)\n",
        "\n",
        "\n",
        "# With 2 Layers + Dropout + lookback=5 => I got - Test RMSE: 1666.162  => This seems best"
      ]
    },
    {
      "cell_type": "code",
      "execution_count": null,
      "metadata": {
        "id": "NlmrFvkalPMX"
      },
      "outputs": [],
      "source": [
        "temp_input = testX[-1]\n",
        "x_input = testX[-1]\n",
        "print(x_input)\n",
        "x_input=np.array(temp_input[1:])\n",
        "print(\"{} day input {}\".format(1,x_input))\n",
        "x_input=x_input.reshape(1,-1)\n",
        "# x_input = x_input.reshape((1, 10, 1))\n",
        "LSTM_predicted_test = LSTM_model.predict(x_input)\n",
        "GRU_predicted_test = GRU_model.predict(x_input)\n",
        "LSTM_predicted_test"
      ]
    },
    {
      "cell_type": "code",
      "execution_count": null,
      "metadata": {
        "id": "ZRPJBWlo_QIc"
      },
      "outputs": [],
      "source": [
        "from tensorflow.keras.models import load_model\n",
        "\n",
        "LSTM_path = '/content/drive/My Drive/Models/LSTM_best_model.hdf5'\n",
        "GRU_path = '/content/drive/My Drive/Models/GRU_best_model.hdf5'\n",
        "meta_path = '/content/drive/My Drive/Models/meta_best_model.hdf5'\n",
        "\n",
        "loaded_LSTM = load_model(LSTM_path)\n",
        "loaded_GRU = load_model(GRU_path)\n",
        "loaded_meta = load_model(meta_path)\n",
        "\n",
        "LSTM_model = loaded_LSTM\n",
        "GRU_model = loaded_GRU\n",
        "meta_model = loaded_meta"
      ]
    },
    {
      "cell_type": "code",
      "execution_count": null,
      "metadata": {
        "colab": {
          "base_uri": "https://localhost:8080/",
          "height": 493
        },
        "id": "slFSoYOUAyq8",
        "outputId": "fcac6d02-bae6-4c15-cc92-414479e31e98"
      },
      "outputs": [
        {
          "name": "stdout",
          "output_type": "stream",
          "text": [
            "\r[*********************100%***********************]  1 of 1 completed\n"
          ]
        },
        {
          "data": {
            "text/plain": [
              "<matplotlib.axes._subplots.AxesSubplot at 0x7fc7c918a950>"
            ]
          },
          "execution_count": 28,
          "metadata": {},
          "output_type": "execute_result"
        },
        {
          "data": {
            "image/png": "[encoded data removed]",
            "text/plain": [
              "<Figure size 1728x504 with 1 Axes>"
            ]
          },
          "metadata": {},
          "output_type": "display_data"
        }
      ],
      "source": [
        "from datetime import date\n",
        "import yfinance as yf\n",
        "\n",
        "START = \"2015-01-01\"\n",
        "TODAY = date.today().strftime(\"%Y-%m-%d\")\n",
        "\n",
        "def load_data(ticker):\n",
        "    data = yf.download(ticker, START, TODAY)\n",
        "    data.reset_index(inplace=True)\n",
        "    return data\n",
        "\n",
        "selected_stock = \"BTC-USD\"\n",
        "data = load_data(selected_stock)\n",
        "data\n",
        "data.set_index(\"Date\").Close.plot(figsize=(24,7), title=\"Bitcoin Weighted Price\")"
      ]
    },
    {
      "cell_type": "code",
      "execution_count": null,
      "metadata": {
        "colab": {
          "base_uri": "https://localhost:8080/"
        },
        "id": "wR2lwWNqBPRU",
        "outputId": "07090e1d-73c8-463a-e2fc-95a6dc5bb47a"
      },
      "outputs": [
        {
          "data": {
            "text/plain": [
              "array([19772.58398438, 20127.57617188, 19419.50585938, 19544.12890625,\n",
              "       18890.7890625 , 18547.40039062, 19413.55078125, 19297.63867188,\n",
              "       18937.01171875, 18802.09765625])"
            ]
          },
          "execution_count": 52,
          "metadata": {},
          "output_type": "execute_result"
        }
      ],
      "source": [
        "n_steps = 10\n",
        "data['Close'][-n_steps:].values"
      ]
    },
    {
      "cell_type": "code",
      "execution_count": null,
      "metadata": {
        "id": "rm0Ny53xCh4q"
      },
      "outputs": [],
      "source": [
        "n_steps = 10\n",
        "\n",
        "scaler_test = MinMaxScaler(feature_range=(0, 1))\n",
        "scaled_test = scaler_test.fit_transform(data['Close'][-n_steps:].values.reshape(-1,1))"
      ]
    },
    {
      "cell_type": "code",
      "execution_count": null,
      "metadata": {
        "colab": {
          "base_uri": "https://localhost:8080/"
        },
        "id": "Fnq0S0O7EJHd",
        "outputId": "09a4146b-0634-4656-af08-3b20863a63e4"
      },
      "outputs": [
        {
          "data": {
            "text/plain": [
              "array([19772.58398438, 20127.57617188, 19419.50585938, 19544.12890625,\n",
              "       18890.7890625 , 18547.40039062, 19413.55078125, 19297.63867188,\n",
              "       18937.01171875, 18802.09765625])"
            ]
          },
          "execution_count": 54,
          "metadata": {},
          "output_type": "execute_result"
        }
      ],
      "source": [
        "data['Close'][-n_steps:].values"
      ]
    },
    {
      "cell_type": "code",
      "execution_count": null,
      "metadata": {
        "colab": {
          "base_uri": "https://localhost:8080/",
          "height": 616
        },
        "id": "bySi5PEVpn9X",
        "outputId": "cd09ddf9-74b8-449a-afc9-e390591806da"
      },
      "outputs": [
        {
          "name": "stdout",
          "output_type": "stream",
          "text": [
            "11\n",
            "[[18901.8189324 ]\n",
            " [18907.74571616]\n",
            " [18914.08637594]\n",
            " [18923.44905827]\n",
            " [18935.01630091]\n",
            " [18949.65845143]\n",
            " [18963.526371  ]\n",
            " [18972.47039737]\n",
            " [18979.83789447]\n",
            " [18987.61707777]]\n"
          ]
        },
        {
          "data": {
            "image/png": "[encoded data removed]",
            "text/plain": [
              "<Figure size 1152x504 with 1 Axes>"
            ]
          },
          "metadata": {},
          "output_type": "display_data"
        }
      ],
      "source": [
        "n_steps = 10\n",
        "\n",
        "scaler_test = MinMaxScaler(feature_range=(0, 1))\n",
        "scaled_test = scaler_test.fit_transform(data['Close'][-n_steps:].values.reshape(-1,1))\n",
        "\n",
        "prediction_period = 10\n",
        "temp_input = scaled_test\n",
        "x_input = scaled_test\n",
        "# demonstrate prediction for next 10 days\n",
        "from numpy import array\n",
        "\n",
        "lst_output=[]\n",
        "\n",
        "i=0\n",
        "while(i<prediction_period):\n",
        "    \n",
        "    if(len(temp_input)>n_steps):\n",
        "        # print(temp_input)\n",
        "        x_input=np.array(temp_input[1:])\n",
        "        # print(\"{} day input {}\".format(i,x_input))\n",
        "        x_input=x_input.reshape(1,-1)\n",
        "        x_input = x_input.reshape((1, n_steps, 1))\n",
        "        #print(x_input)\n",
        "        # yhat = model_from_saved_checkpoint.predict(x_input, verbose=0)\n",
        "        yhat1 = LSTM_model.predict(x_input, verbose=0)\n",
        "        yhat2 = GRU_model.predict(x_input, verbose=0)\n",
        "        level1_test_data = np.concatenate((yhat1, yhat2), axis=-1)\n",
        "        yhat = meta_model.predict(level1_test_data)\n",
        "\n",
        "        \n",
        "        # print(\"x = \", x_input)\n",
        "        # print(\"{} day output {}\".format(i,yhat))\n",
        "        # temp_input.extend(yhat[0].tolist())\n",
        "        temp_input = np.append(temp_input, yhat[0])\n",
        "        temp_input=temp_input[1:]\n",
        "        #print(temp_input)\n",
        "        lst_output.extend(yhat.tolist())\n",
        "        i=i+1\n",
        "    else:\n",
        "        x_input = x_input.reshape((1, n_steps,1))\n",
        "        # yhat = model_from_saved_checkpoint.predict(x_input, verbose=0)\n",
        "        yhat1 = LSTM_model.predict(x_input, verbose=0)\n",
        "        yhat2 = GRU_model.predict(x_input, verbose=0)\n",
        "        level1_test_data = np.concatenate((yhat1, yhat2), axis=-1)\n",
        "        yhat = meta_model.predict(level1_test_data)\n",
        "        \n",
        "        # print(yhat[0])\n",
        "        # temp_input.extend(yhat[0].tolist())\n",
        "        temp_input = np.append(temp_input, yhat[0])\n",
        "        lst_output.extend(yhat.tolist())\n",
        "        i=i+1\n",
        "    \n",
        "\n",
        "lst_output = np.array(lst_output)\n",
        "lst_output = scaler_test.inverse_transform(lst_output.reshape(-1, 1))\n",
        "print(lst_output)\n",
        "\n",
        "plt.figure(figsize=(16,7))\n",
        "\n",
        "\n",
        "plt.plot(lst_output, marker='.', label='Actual Train')\n",
        "\n",
        "plt.legend()\n",
        "plt.show()"
      ]
    },
    {
      "cell_type": "code",
      "execution_count": null,
      "metadata": {
        "colab": {
          "base_uri": "https://localhost:8080/"
        },
        "id": "XFCfLPaoC_93",
        "outputId": "89a73585-1bd2-44fb-885e-a4be0e2bbcf4"
      },
      "outputs": [
        {
          "data": {
            "text/plain": [
              "0    18901.818932\n",
              "1    18907.745716\n",
              "2    18914.086376\n",
              "3    18923.449058\n",
              "4    18935.016301\n",
              "5    18949.658451\n",
              "6    18963.526371\n",
              "7    18972.470397\n",
              "8    18979.837894\n",
              "9    18987.617078\n",
              "Name: 0, dtype: float64"
            ]
          },
          "execution_count": 60,
          "metadata": {},
          "output_type": "execute_result"
        }
      ],
      "source": [
        "df = pd.DataFrame(lst_output)[0]\n",
        "df"
      ]
    },
    {
      "cell_type": "code",
      "execution_count": null,
      "metadata": {
        "id": "97nz6-Z6pUpv"
      },
      "outputs": [],
      "source": []
    }
  ],
  "metadata": {
    "accelerator": "GPU",
    "colab": {
      "collapsed_sections": [],
      "provenance": []
    },
    "gpuClass": "standard",
    "kernelspec": {
      "display_name": "Python 3",
      "language": "python",
      "name": "python3"
    },
    "language_info": {
      "codemirror_mode": {
        "name": "ipython",
        "version": 3
      },
      "file_extension": ".py",
      "mimetype": "text/x-python",
      "name": "python",
      "nbconvert_exporter": "python",
      "pygments_lexer": "ipython3",
      "version": "3.6.4"
    }
  },
  "nbformat": 4,
  "nbformat_minor": 0
}
